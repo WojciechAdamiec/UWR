{
 "cells": [
  {
   "cell_type": "markdown",
   "metadata": {},
   "source": [
    "#  Pracownia 1\n",
    "## Zad P1.3\n",
    "## Analiza Numeryczna (M)\n",
    "## Wojciech Adamiec, 310064\n"
   ]
  },
  {
   "cell_type": "markdown",
   "metadata": {},
   "source": [
    "#### Funkcje pomocnicze:"
   ]
  },
  {
   "cell_type": "code",
   "execution_count": 46,
   "metadata": {},
   "outputs": [
    {
     "data": {
      "text/plain": [
       "Tn32malkwodwrwykres (generic function with 1 method)"
      ]
     },
     "execution_count": 46,
     "metadata": {},
     "output_type": "execute_result"
    }
   ],
   "source": [
    "function fac(n)\n",
    "    fact = one(n)\n",
    "    for m in 1:n\n",
    "        fact *= m\n",
    "    end\n",
    "    fact\n",
    "end\n",
    "\n",
    "function Tn32malkwodwrwykres(n)\n",
    "    sum::Float32 = 0\n",
    "    i::Int64 = 0\n",
    "    k::Int64 = 1\n",
    "    inc::Float32 = 0\n",
    "    while i <= n\n",
    "        if i != 0\n",
    "            k = k * i\n",
    "        end\n",
    "        inc = k * k\n",
    "        inc = 1/inc\n",
    "        sum = sum + inc\n",
    "        i = i + 1\n",
    "    end\n",
    "    return sum\n",
    "end "
   ]
  },
  {
   "cell_type": "markdown",
   "metadata": {},
   "source": [
    "##### 1. Ciąg Tn - precyzja pojedyncza; sumowanie malejąco; najpierw kwadrat, potem odwrotność."
   ]
  },
  {
   "cell_type": "markdown",
   "metadata": {},
   "source": [
    "##### n = 7"
   ]
  },
  {
   "cell_type": "code",
   "execution_count": 38,
   "metadata": {},
   "outputs": [
    {
     "data": {
      "text/plain": [
       "Tn32malkwodwr (generic function with 1 method)"
      ]
     },
     "execution_count": 38,
     "metadata": {},
     "output_type": "execute_result"
    }
   ],
   "source": [
    "function Tn32malkwodwr(n)\n",
    "    sum::Float32 = 0\n",
    "    i::Int64 = 0\n",
    "    k::Int64 = 1\n",
    "    inc::Float32 = 0\n",
    "    while i <= n\n",
    "        if i != 0\n",
    "            k = k * i\n",
    "        end\n",
    "        println(\"iterator: \",i,\"  silnia: \", k)\n",
    "        inc = k * k\n",
    "        inc = 1/inc\n",
    "        if sum == sum + inc\n",
    "            println(\"Następny wyraz już nic nie zmienia: Koniec \")\n",
    "        end\n",
    "        sum = sum + inc\n",
    "        println(sum)\n",
    "        i = i + 1\n",
    "    end\n",
    "end    "
   ]
  },
  {
   "cell_type": "code",
   "execution_count": 3,
   "metadata": {},
   "outputs": [
    {
     "name": "stdout",
     "output_type": "stream",
     "text": [
      "iterator: 0  silnia: 1\n",
      "1.0\n",
      "iterator: 1  silnia: 1\n",
      "2.0\n",
      "iterator: 2  silnia: 2\n",
      "2.25\n",
      "iterator: 3  silnia: 6\n",
      "2.2777777\n",
      "iterator: 4  silnia: 24\n",
      "2.2795138\n",
      "iterator: 5  silnia: 120\n",
      "2.2795832\n",
      "iterator: 6  silnia: 720\n",
      "2.2795851\n",
      "iterator: 7  silnia: 5040\n",
      "Następny wyraz już nic nie zmienia: Koniec \n",
      "2.2795851\n",
      "iterator: 8  silnia: 40320\n",
      "Następny wyraz już nic nie zmienia: Koniec \n",
      "2.2795851\n"
     ]
    }
   ],
   "source": [
    "Tn32malkwodwr(8)"
   ]
  },
  {
   "cell_type": "markdown",
   "metadata": {},
   "source": [
    "##### 2. Ciąg Tn - precyzja pojedyncza; sumowanie malejąco; najpierw odwrotność, potem kwadrat."
   ]
  },
  {
   "cell_type": "markdown",
   "metadata": {},
   "source": [
    "##### n = 7"
   ]
  },
  {
   "cell_type": "code",
   "execution_count": 4,
   "metadata": {},
   "outputs": [
    {
     "data": {
      "text/plain": [
       "Tn32malodwrkw (generic function with 1 method)"
      ]
     },
     "execution_count": 4,
     "metadata": {},
     "output_type": "execute_result"
    }
   ],
   "source": [
    "function Tn32malodwrkw(n)\n",
    "    sum::Float32 = 0\n",
    "    i::Int64 = 0\n",
    "    k::Int64 = 1\n",
    "    inc::Float32 = 0\n",
    "    while i <= n\n",
    "        if i != 0\n",
    "            k = k * i\n",
    "        end\n",
    "        println(\"iterator: \",i,\"  silnia: \", k)\n",
    "        inc = 1/k\n",
    "        inc = inc * inc\n",
    "        if sum == sum + inc\n",
    "            println(\"Następny wyraz już nic nie zmienia: Koniec \")\n",
    "        end\n",
    "        sum = sum + inc\n",
    "        println(sum)\n",
    "        i = i + 1\n",
    "    end\n",
    "end    "
   ]
  },
  {
   "cell_type": "code",
   "execution_count": 5,
   "metadata": {},
   "outputs": [
    {
     "name": "stdout",
     "output_type": "stream",
     "text": [
      "iterator: 0  silnia: 1\n",
      "1.0\n",
      "iterator: 1  silnia: 1\n",
      "2.0\n",
      "iterator: 2  silnia: 2\n",
      "2.25\n",
      "iterator: 3  silnia: 6\n",
      "2.2777777\n",
      "iterator: 4  silnia: 24\n",
      "2.2795138\n",
      "iterator: 5  silnia: 120\n",
      "2.2795832\n",
      "iterator: 6  silnia: 720\n",
      "2.2795851\n",
      "iterator: 7  silnia: 5040\n",
      "Następny wyraz już nic nie zmienia: Koniec \n",
      "2.2795851\n",
      "iterator: 8  silnia: 40320\n",
      "Następny wyraz już nic nie zmienia: Koniec \n",
      "2.2795851\n"
     ]
    }
   ],
   "source": [
    "Tn32malodwrkw(8)"
   ]
  },
  {
   "cell_type": "markdown",
   "metadata": {},
   "source": [
    "##### 3. Ciąg Tn - precyzja pojedyncza; sumowanie rosnąco; najpierw kwadrat, potem odwrotność."
   ]
  },
  {
   "cell_type": "markdown",
   "metadata": {},
   "source": [
    "##### n = 6"
   ]
  },
  {
   "cell_type": "code",
   "execution_count": 47,
   "metadata": {},
   "outputs": [
    {
     "data": {
      "text/plain": [
       "Tn32rosnkwodwr (generic function with 1 method)"
      ]
     },
     "execution_count": 47,
     "metadata": {},
     "output_type": "execute_result"
    }
   ],
   "source": [
    "function Tn32rosnkwodwr(n)\n",
    "    sum::Float32 = 0\n",
    "    i::Int64 = n\n",
    "    k::Int64 = fac(n)\n",
    "    inc::Float32 = 0\n",
    "    first::Float32 = 1\n",
    "    while i >= 0\n",
    "        if i == 0\n",
    "            sum = sum + first\n",
    "            println(\"iterator: \",i,\"  silnia: \", k)\n",
    "            println(sum)\n",
    "            i = i - 1\n",
    "        else\n",
    "            println(\"iterator: \",i,\"  silnia: \", k)\n",
    "            inc = k * k\n",
    "            inc = 1/inc\n",
    "            sum = sum + inc\n",
    "            println(sum)\n",
    "            k = k / i\n",
    "            i = i - 1\n",
    "        end\n",
    "    end\n",
    "end   "
   ]
  },
  {
   "cell_type": "code",
   "execution_count": 48,
   "metadata": {},
   "outputs": [
    {
     "name": "stdout",
     "output_type": "stream",
     "text": [
      "7 składników\n",
      "\n",
      "iterator: 7  silnia: 5040\n",
      "3.93676e-8\n",
      "iterator: 6  silnia: 720\n",
      "1.96838e-6\n",
      "iterator: 5  silnia: 120\n",
      "7.1412825e-5\n",
      "iterator: 4  silnia: 24\n",
      "0.0018075239\n",
      "iterator: 3  silnia: 6\n",
      "0.029585302\n",
      "iterator: 2  silnia: 2\n",
      "0.2795853\n",
      "iterator: 1  silnia: 1\n",
      "1.2795854\n",
      "iterator: 0  silnia: 1\n",
      "2.2795854\n",
      "\n",
      "6 składników\n",
      "\n",
      "iterator: 6  silnia: 720\n",
      "1.9290123e-6\n",
      "iterator: 5  silnia: 120\n",
      "7.1373455e-5\n",
      "iterator: 4  silnia: 24\n",
      "0.0018074845\n",
      "iterator: 3  silnia: 6\n",
      "0.029585263\n",
      "iterator: 2  silnia: 2\n",
      "0.27958527\n",
      "iterator: 1  silnia: 1\n",
      "1.2795852\n",
      "iterator: 0  silnia: 1\n",
      "2.2795854\n",
      "\n",
      "5 składników\n",
      "\n",
      "iterator: 5  silnia: 120\n",
      "6.9444446e-5\n",
      "iterator: 4  silnia: 24\n",
      "0.0018055555\n",
      "iterator: 3  silnia: 6\n",
      "0.029583333\n",
      "iterator: 2  silnia: 2\n",
      "0.27958333\n",
      "iterator: 1  silnia: 1\n",
      "1.2795833\n",
      "iterator: 0  silnia: 1\n",
      "2.2795835\n",
      "\n"
     ]
    }
   ],
   "source": [
    "println(\"7 składników\")\n",
    "println(\"\")\n",
    "Tn32rosnkwodwr(7)\n",
    "println(\"\")\n",
    "println(\"6 składników\")\n",
    "println(\"\")\n",
    "Tn32rosnkwodwr(6)\n",
    "println(\"\")\n",
    "println(\"5 składników\")\n",
    "println(\"\")\n",
    "Tn32rosnkwodwr(5)\n",
    "println(\"\")"
   ]
  },
  {
   "cell_type": "markdown",
   "metadata": {},
   "source": [
    "##### 4. Ciąg Tn - precyzja pojedyncza; sumowanie rosnąco; najpierw odwrotność, potem kwadrat."
   ]
  },
  {
   "cell_type": "markdown",
   "metadata": {},
   "source": [
    "##### n = 6"
   ]
  },
  {
   "cell_type": "code",
   "execution_count": 8,
   "metadata": {},
   "outputs": [
    {
     "data": {
      "text/plain": [
       "Tn32rosnodwrkw (generic function with 1 method)"
      ]
     },
     "execution_count": 8,
     "metadata": {},
     "output_type": "execute_result"
    }
   ],
   "source": [
    "function Tn32rosnodwrkw(n)\n",
    "    sum::Float32 = 0\n",
    "    i::Int64 = n\n",
    "    k::Int64 = fac(n)\n",
    "    inc::Float32 = 0\n",
    "    first::Float32 = 1\n",
    "    while i >= 0\n",
    "        if i == 0\n",
    "            sum = sum + first\n",
    "            println(\"iterator: \",i,\"  silnia: \", k)\n",
    "            println(sum)\n",
    "            i = i - 1\n",
    "        else\n",
    "            println(\"iterator: \",i,\"  silnia: \", k)\n",
    "            inc = 1/k\n",
    "            inc = inc * inc\n",
    "            sum = sum + inc\n",
    "            println(sum)\n",
    "            k = k / i\n",
    "            i = i - 1\n",
    "        end\n",
    "    end\n",
    "end  "
   ]
  },
  {
   "cell_type": "code",
   "execution_count": 9,
   "metadata": {},
   "outputs": [
    {
     "name": "stdout",
     "output_type": "stream",
     "text": [
      "7 składników\n",
      "\n",
      "iterator: 7  silnia: 5040\n",
      "3.93676e-8\n",
      "iterator: 6  silnia: 720\n",
      "1.96838e-6\n",
      "iterator: 5  silnia: 120\n",
      "7.141283e-5\n",
      "iterator: 4  silnia: 24\n",
      "0.0018075241\n",
      "iterator: 3  silnia: 6\n",
      "0.029585304\n",
      "iterator: 2  silnia: 2\n",
      "0.2795853\n",
      "iterator: 1  silnia: 1\n",
      "1.2795854\n",
      "iterator: 0  silnia: 1\n",
      "2.2795854\n",
      "\n",
      "6 składników\n",
      "\n",
      "iterator: 6  silnia: 720\n",
      "1.9290123e-6\n",
      "iterator: 5  silnia: 120\n",
      "7.137346e-5\n",
      "iterator: 4  silnia: 24\n",
      "0.0018074847\n",
      "iterator: 3  silnia: 6\n",
      "0.029585265\n",
      "iterator: 2  silnia: 2\n",
      "0.27958527\n",
      "iterator: 1  silnia: 1\n",
      "1.2795852\n",
      "iterator: 0  silnia: 1\n",
      "2.2795854\n",
      "\n",
      "5 składników\n",
      "\n",
      "iterator: 5  silnia: 120\n",
      "6.944445e-5\n",
      "iterator: 4  silnia: 24\n",
      "0.0018055557\n",
      "iterator: 3  silnia: 6\n",
      "0.029583335\n",
      "iterator: 2  silnia: 2\n",
      "0.27958333\n",
      "iterator: 1  silnia: 1\n",
      "1.2795833\n",
      "iterator: 0  silnia: 1\n",
      "2.2795835\n",
      "\n"
     ]
    }
   ],
   "source": [
    "println(\"7 składników\")\n",
    "println(\"\")\n",
    "Tn32rosnodwrkw(7)\n",
    "println(\"\")\n",
    "println(\"6 składników\")\n",
    "println(\"\")\n",
    "Tn32rosnodwrkw(6)\n",
    "println(\"\")\n",
    "println(\"5 składników\")\n",
    "println(\"\")\n",
    "Tn32rosnodwrkw(5)\n",
    "println(\"\")"
   ]
  },
  {
   "cell_type": "markdown",
   "metadata": {},
   "source": [
    "##### 5. Ciąg Tn - precyzja podwójna; sumowanie malejąco; najpierw kwadrat, potem odwrotność."
   ]
  },
  {
   "cell_type": "markdown",
   "metadata": {},
   "source": [
    "##### n = 12"
   ]
  },
  {
   "cell_type": "code",
   "execution_count": 10,
   "metadata": {},
   "outputs": [
    {
     "data": {
      "text/plain": [
       "Tn64malkwodwr (generic function with 1 method)"
      ]
     },
     "execution_count": 10,
     "metadata": {},
     "output_type": "execute_result"
    }
   ],
   "source": [
    "function Tn64malkwodwr(n)\n",
    "    sum::Float64 = 0\n",
    "    i::Int64 = 0\n",
    "    k::Int64 = 1\n",
    "    inc::Float64 = 0\n",
    "    while i <= n\n",
    "        if i != 0\n",
    "            k = k * i\n",
    "        end\n",
    "        println(\"iterator: \",i,\"  silnia: \", k)\n",
    "        inc = k * k\n",
    "        inc = 1/inc\n",
    "        if sum == sum + inc\n",
    "            println(\"Następny wyraz już nic nie zmienia: Koniec \")\n",
    "        end\n",
    "        sum = sum + inc\n",
    "        println(sum)\n",
    "        i = i + 1\n",
    "    end\n",
    "end    "
   ]
  },
  {
   "cell_type": "code",
   "execution_count": 11,
   "metadata": {},
   "outputs": [
    {
     "name": "stdout",
     "output_type": "stream",
     "text": [
      "iterator: 0  silnia: 1\n",
      "1.0\n",
      "iterator: 1  silnia: 1\n",
      "2.0\n",
      "iterator: 2  silnia: 2\n",
      "2.25\n",
      "iterator: 3  silnia: 6\n",
      "2.2777777777777777\n",
      "iterator: 4  silnia: 24\n",
      "2.279513888888889\n",
      "iterator: 5  silnia: 120\n",
      "2.279583333333333\n",
      "iterator: 6  silnia: 720\n",
      "2.279585262345679\n",
      "iterator: 7  silnia: 5040\n",
      "2.279585301713278\n",
      "iterator: 8  silnia: 40320\n",
      "2.2795853023283965\n",
      "iterator: 9  silnia: 362880\n",
      "2.2795853023359904\n",
      "iterator: 10  silnia: 3628800\n",
      "2.2795853023360664\n",
      "iterator: 11  silnia: 39916800\n",
      "2.279585302336067\n",
      "iterator: 12  silnia: 479001600\n",
      "Następny wyraz już nic nie zmienia: Koniec \n",
      "2.279585302336067\n",
      "iterator: 13  silnia: 6227020800\n",
      "Następny wyraz już nic nie zmienia: Koniec \n",
      "2.279585302336067\n"
     ]
    }
   ],
   "source": [
    "Tn64malkwodwr(13)"
   ]
  },
  {
   "cell_type": "markdown",
   "metadata": {},
   "source": [
    "##### 6. Ciąg Tn - precyzja podwójna; sumowanie malejąco; najpierw odwrotność, potem kwadrat."
   ]
  },
  {
   "cell_type": "markdown",
   "metadata": {},
   "source": [
    "##### n = 12"
   ]
  },
  {
   "cell_type": "code",
   "execution_count": 12,
   "metadata": {},
   "outputs": [
    {
     "data": {
      "text/plain": [
       "Tn64malodwrkw (generic function with 1 method)"
      ]
     },
     "execution_count": 12,
     "metadata": {},
     "output_type": "execute_result"
    }
   ],
   "source": [
    "function Tn64malodwrkw(n)\n",
    "    sum::Float64 = 0\n",
    "    i::Int64 = 0\n",
    "    k::Int64 = 1\n",
    "    inc::Float64 = 0\n",
    "    while i <= n\n",
    "        if i != 0\n",
    "            k = k * i\n",
    "        end\n",
    "        println(\"iterator: \",i,\"  silnia: \", k)\n",
    "        inc = 1/k\n",
    "        inc = inc * inc\n",
    "        if sum == sum + inc\n",
    "            println(\"Następny wyraz już nic nie zmienia: Koniec \")\n",
    "        end\n",
    "        sum = sum + inc\n",
    "        println(sum)\n",
    "        i = i + 1\n",
    "    end\n",
    "end   "
   ]
  },
  {
   "cell_type": "code",
   "execution_count": 13,
   "metadata": {},
   "outputs": [
    {
     "name": "stdout",
     "output_type": "stream",
     "text": [
      "iterator: 0  silnia: 1\n",
      "1.0\n",
      "iterator: 1  silnia: 1\n",
      "2.0\n",
      "iterator: 2  silnia: 2\n",
      "2.25\n",
      "iterator: 3  silnia: 6\n",
      "2.2777777777777777\n",
      "iterator: 4  silnia: 24\n",
      "2.279513888888889\n",
      "iterator: 5  silnia: 120\n",
      "2.279583333333333\n",
      "iterator: 6  silnia: 720\n",
      "2.279585262345679\n",
      "iterator: 7  silnia: 5040\n",
      "2.279585301713278\n",
      "iterator: 8  silnia: 40320\n",
      "2.2795853023283965\n",
      "iterator: 9  silnia: 362880\n",
      "2.2795853023359904\n",
      "iterator: 10  silnia: 3628800\n",
      "2.2795853023360664\n",
      "iterator: 11  silnia: 39916800\n",
      "2.279585302336067\n",
      "iterator: 12  silnia: 479001600\n",
      "Następny wyraz już nic nie zmienia: Koniec \n",
      "2.279585302336067\n",
      "iterator: 13  silnia: 6227020800\n",
      "Następny wyraz już nic nie zmienia: Koniec \n",
      "2.279585302336067\n"
     ]
    }
   ],
   "source": [
    "Tn64malodwrkw(13)"
   ]
  },
  {
   "cell_type": "markdown",
   "metadata": {},
   "source": [
    "##### 7. Ciąg Tn - precyzja podwójna; sumowanie rosnąco; najpierw kwadrat, potem odwrotność."
   ]
  },
  {
   "cell_type": "markdown",
   "metadata": {},
   "source": [
    "##### n = 11"
   ]
  },
  {
   "cell_type": "code",
   "execution_count": 14,
   "metadata": {},
   "outputs": [
    {
     "data": {
      "text/plain": [
       "Tn64rosnkwodwr (generic function with 1 method)"
      ]
     },
     "execution_count": 14,
     "metadata": {},
     "output_type": "execute_result"
    }
   ],
   "source": [
    "function Tn64rosnkwodwr(n)\n",
    "    sum::Float64 = 0\n",
    "    i::Int64 = n\n",
    "    k::Int64 = fac(n)\n",
    "    inc::Float64 = 0\n",
    "    first::Float64 = 1\n",
    "    while i >= 0\n",
    "        if i == 0\n",
    "            sum = sum + first\n",
    "            println(\"iterator: \",i,\"  silnia: \", k)\n",
    "            println(sum)\n",
    "            i = i - 1\n",
    "        else\n",
    "            println(\"iterator: \",i,\"  silnia: \", k)\n",
    "            inc = k * k\n",
    "            inc = 1/inc\n",
    "            sum = sum + inc\n",
    "            println(sum)\n",
    "            k = k / i\n",
    "            i = i - 1\n",
    "        end\n",
    "    end\n",
    "end   "
   ]
  },
  {
   "cell_type": "code",
   "execution_count": 15,
   "metadata": {},
   "outputs": [
    {
     "name": "stdout",
     "output_type": "stream",
     "text": [
      "iterator: 12  silnia: 479001600\n",
      "4.358389823304995e-18\n",
      "iterator: 11  silnia: 39916800\n",
      "6.319665243792243e-16\n",
      "iterator: 10  silnia: 3628800\n",
      "7.657255080564546e-14\n",
      "iterator: 9  silnia: 362880\n",
      "7.670630978932269e-12\n",
      "iterator: 8  silnia: 40320\n",
      "6.227893636571887e-10\n",
      "iterator: 7  silnia: 5040\n",
      "3.999038825506561e-8\n",
      "iterator: 6  silnia: 720\n",
      "1.969002733934078e-6\n",
      "iterator: 5  silnia: 120\n",
      "7.141344717837852e-5\n",
      "iterator: 4  silnia: 24\n",
      "0.0018075245582894895\n",
      "iterator: 3  silnia: 6\n",
      "0.029585302336067265\n",
      "iterator: 2  silnia: 2\n",
      "0.27958530233606727\n",
      "iterator: 1  silnia: 1\n",
      "1.2795853023360673\n",
      "iterator: 0  silnia: 1\n",
      "2.2795853023360673\n",
      "\n",
      "11 składników\n",
      "\n",
      "iterator: 11  silnia: 39916800\n",
      "6.276081345559193e-16\n",
      "iterator: 10  silnia: 3628800\n",
      "7.656819241582216e-14\n",
      "iterator: 9  silnia: 362880\n",
      "7.670626620542447e-12\n",
      "iterator: 8  silnia: 40320\n",
      "6.22789359298799e-10\n",
      "iterator: 7  silnia: 5040\n",
      "3.9990388250707215e-8\n",
      "iterator: 6  silnia: 720\n",
      "1.9690027339297196e-6\n",
      "iterator: 5  silnia: 120\n",
      "7.141344717837417e-5\n",
      "iterator: 4  silnia: 24\n",
      "0.0018075245582894852\n",
      "iterator: 3  silnia: 6\n",
      "0.02958530233606726\n",
      "iterator: 2  silnia: 2\n",
      "0.27958530233606727\n",
      "iterator: 1  silnia: 1\n",
      "1.2795853023360673\n",
      "iterator: 0  silnia: 1\n",
      "2.2795853023360673\n",
      "\n",
      "10 składników\n",
      "\n",
      "iterator: 10  silnia: 3628800\n",
      "7.594058428126623e-14\n",
      "iterator: 9  silnia: 362880\n",
      "7.66999901240789e-12\n",
      "iterator: 8  silnia: 40320\n",
      "6.227887316906644e-10\n",
      "iterator: 7  silnia: 5040\n",
      "3.999038762309908e-8\n",
      "iterator: 6  silnia: 720\n",
      "1.9690027333021114e-6\n",
      "iterator: 5  silnia: 120\n",
      "7.141344717774656e-5\n",
      "iterator: 4  silnia: 24\n",
      "0.0018075245582888577\n",
      "iterator: 3  silnia: 6\n",
      "0.029585302336066634\n",
      "iterator: 2  silnia: 2\n",
      "0.27958530233606665\n",
      "iterator: 1  silnia: 1\n",
      "1.2795853023360666\n",
      "iterator: 0  silnia: 1\n",
      "2.2795853023360664\n",
      "\n"
     ]
    }
   ],
   "source": [
    "Tn64rosnkwodwr(12)\n",
    "println(\"\")\n",
    "println(\"11 składników\")\n",
    "println(\"\")\n",
    "Tn64rosnkwodwr(11)\n",
    "println(\"\")\n",
    "println(\"10 składników\")\n",
    "println(\"\")\n",
    "Tn64rosnkwodwr(10)\n",
    "println(\"\")"
   ]
  },
  {
   "cell_type": "markdown",
   "metadata": {},
   "source": [
    "##### 8. Ciąg Tn - precyzja podwójna; sumowanie rosnąco; najpierw odwrotność, potem kwadrat."
   ]
  },
  {
   "cell_type": "markdown",
   "metadata": {},
   "source": [
    "##### n = 11"
   ]
  },
  {
   "cell_type": "code",
   "execution_count": 16,
   "metadata": {},
   "outputs": [
    {
     "data": {
      "text/plain": [
       "Tn64rosnodwrkw (generic function with 1 method)"
      ]
     },
     "execution_count": 16,
     "metadata": {},
     "output_type": "execute_result"
    }
   ],
   "source": [
    "function Tn64rosnodwrkw(n)\n",
    "    sum::Float64 = 0\n",
    "    i::Int64 = n\n",
    "    k::Int64 = fac(n)\n",
    "    inc::Float64 = 0\n",
    "    first::Float64 = 1\n",
    "    while i >= 0\n",
    "        if i == 0\n",
    "            sum = sum + first\n",
    "            println(\"iterator: \",i,\"  silnia: \", k)\n",
    "            println(sum)\n",
    "            i = i - 1\n",
    "        else\n",
    "            println(\"iterator: \",i,\"  silnia: \", k)\n",
    "            inc = 1/k\n",
    "            inc = inc * inc\n",
    "            sum = sum + inc\n",
    "            println(sum)\n",
    "            k = k / i\n",
    "            i = i - 1\n",
    "        end\n",
    "    end\n",
    "end   "
   ]
  },
  {
   "cell_type": "code",
   "execution_count": 17,
   "metadata": {},
   "outputs": [
    {
     "name": "stdout",
     "output_type": "stream",
     "text": [
      "12 składników\n",
      "\n",
      "iterator: 12  silnia: 479001600\n",
      "4.358389823304996e-18\n",
      "iterator: 11  silnia: 39916800\n",
      "6.319665243792243e-16\n",
      "iterator: 10  silnia: 3628800\n",
      "7.657255080564545e-14\n",
      "iterator: 9  silnia: 362880\n",
      "7.670630978932269e-12\n",
      "iterator: 8  silnia: 40320\n",
      "6.227893636571887e-10\n",
      "iterator: 7  silnia: 5040\n",
      "3.999038825506561e-8\n",
      "iterator: 6  silnia: 720\n",
      "1.969002733934078e-6\n",
      "iterator: 5  silnia: 120\n",
      "7.141344717837852e-5\n",
      "iterator: 4  silnia: 24\n",
      "0.0018075245582894895\n",
      "iterator: 3  silnia: 6\n",
      "0.029585302336067265\n",
      "iterator: 2  silnia: 2\n",
      "0.27958530233606727\n",
      "iterator: 1  silnia: 1\n",
      "1.2795853023360673\n",
      "iterator: 0  silnia: 1\n",
      "2.2795853023360673\n",
      "\n",
      "11 składników\n",
      "\n",
      "iterator: 11  silnia: 39916800\n",
      "6.276081345559193e-16\n",
      "iterator: 10  silnia: 3628800\n",
      "7.656819241582214e-14\n",
      "iterator: 9  silnia: 362880\n",
      "7.670626620542447e-12\n",
      "iterator: 8  silnia: 40320\n",
      "6.22789359298799e-10\n",
      "iterator: 7  silnia: 5040\n",
      "3.9990388250707215e-8\n",
      "iterator: 6  silnia: 720\n",
      "1.9690027339297196e-6\n",
      "iterator: 5  silnia: 120\n",
      "7.141344717837417e-5\n",
      "iterator: 4  silnia: 24\n",
      "0.0018075245582894852\n",
      "iterator: 3  silnia: 6\n",
      "0.02958530233606726\n",
      "iterator: 2  silnia: 2\n",
      "0.27958530233606727\n",
      "iterator: 1  silnia: 1\n",
      "1.2795853023360673\n",
      "iterator: 0  silnia: 1\n",
      "2.2795853023360673\n",
      "\n",
      "10 składników\n",
      "\n",
      "iterator: 10  silnia: 3628800\n",
      "7.594058428126622e-14\n",
      "iterator: 9  silnia: 362880\n",
      "7.66999901240789e-12\n",
      "iterator: 8  silnia: 40320\n",
      "6.227887316906644e-10\n",
      "iterator: 7  silnia: 5040\n",
      "3.999038762309908e-8\n",
      "iterator: 6  silnia: 720\n",
      "1.9690027333021114e-6\n",
      "iterator: 5  silnia: 120\n",
      "7.141344717774656e-5\n",
      "iterator: 4  silnia: 24\n",
      "0.0018075245582888577\n",
      "iterator: 3  silnia: 6\n",
      "0.029585302336066634\n",
      "iterator: 2  silnia: 2\n",
      "0.27958530233606665\n",
      "iterator: 1  silnia: 1\n",
      "1.2795853023360666\n",
      "iterator: 0  silnia: 1\n",
      "2.2795853023360664\n",
      "\n"
     ]
    }
   ],
   "source": [
    "println(\"12 składników\")\n",
    "println(\"\")\n",
    "Tn64rosnodwrkw(12)\n",
    "println(\"\")\n",
    "println(\"11 składników\")\n",
    "println(\"\")\n",
    "Tn64rosnodwrkw(11)\n",
    "println(\"\")\n",
    "println(\"10 składników\")\n",
    "println(\"\")\n",
    "Tn64rosnodwrkw(10)\n",
    "println(\"\")"
   ]
  },
  {
   "cell_type": "markdown",
   "metadata": {},
   "source": [
    "##### 9. Ciąg Sn - precyzja pojedyncza; sumowanie malejąco; najpierw kwadrat, potem odwrotność."
   ]
  },
  {
   "cell_type": "markdown",
   "metadata": {},
   "source": [
    "##### n = 8"
   ]
  },
  {
   "cell_type": "code",
   "execution_count": 18,
   "metadata": {},
   "outputs": [
    {
     "data": {
      "text/plain": [
       "Sn32malkwodwr (generic function with 1 method)"
      ]
     },
     "execution_count": 18,
     "metadata": {},
     "output_type": "execute_result"
    }
   ],
   "source": [
    "function Sn32malkwodwr(n)\n",
    "    sum::Float32 = 0\n",
    "    i::Int64 = 0\n",
    "    k::Int64 = 1\n",
    "    inc::Float32 = 0\n",
    "    while i <= n\n",
    "        if i != 0\n",
    "            k = k * i\n",
    "        end\n",
    "        println(\"iterator: \",i,\"  silnia: \", k)\n",
    "        inc = k * k\n",
    "        inc = 1/inc\n",
    "        if i % 2 == 1\n",
    "            inc = -1 * inc\n",
    "        end\n",
    "        if sum == sum + inc\n",
    "            println(\"Następny wyraz już nic nie zmienia: Koniec \")\n",
    "        end\n",
    "        sum = sum + inc\n",
    "        println(sum)\n",
    "        i = i + 1\n",
    "    end\n",
    "end   "
   ]
  },
  {
   "cell_type": "code",
   "execution_count": 19,
   "metadata": {},
   "outputs": [
    {
     "name": "stdout",
     "output_type": "stream",
     "text": [
      "iterator: 0  silnia: 1\n",
      "1.0\n",
      "iterator: 1  silnia: 1\n",
      "0.0\n",
      "iterator: 2  silnia: 2\n",
      "0.25\n",
      "iterator: 3  silnia: 6\n",
      "0.22222222\n",
      "iterator: 4  silnia: 24\n",
      "0.22395833\n",
      "iterator: 5  silnia: 120\n",
      "0.22388889\n",
      "iterator: 6  silnia: 720\n",
      "0.22389081\n",
      "iterator: 7  silnia: 5040\n",
      "0.22389077\n",
      "iterator: 8  silnia: 40320\n",
      "Następny wyraz już nic nie zmienia: Koniec \n",
      "0.22389077\n",
      "iterator: 9  silnia: 362880\n",
      "Następny wyraz już nic nie zmienia: Koniec \n",
      "0.22389077\n"
     ]
    }
   ],
   "source": [
    "Sn32malkwodwr(9)"
   ]
  },
  {
   "cell_type": "markdown",
   "metadata": {},
   "source": [
    "##### 10. Ciąg Sn - precyzja pojedyncza; sumowanie malejąco; najpierw odwrotność, potem kwadrat."
   ]
  },
  {
   "cell_type": "markdown",
   "metadata": {},
   "source": [
    "##### n = 8"
   ]
  },
  {
   "cell_type": "code",
   "execution_count": 20,
   "metadata": {},
   "outputs": [
    {
     "data": {
      "text/plain": [
       "Sn32malodwrkw (generic function with 1 method)"
      ]
     },
     "execution_count": 20,
     "metadata": {},
     "output_type": "execute_result"
    }
   ],
   "source": [
    "function Sn32malodwrkw(n)\n",
    "    sum::Float32 = 0\n",
    "    i::Int64 = 0\n",
    "    k::Int64 = 1\n",
    "    inc::Float32 = 0\n",
    "    while i <= n\n",
    "        if i != 0\n",
    "            k = k * i\n",
    "        end\n",
    "        println(\"iterator: \",i,\"  silnia: \", k)\n",
    "        inc = 1/k\n",
    "        inc = inc * inc\n",
    "        if i % 2 == 1\n",
    "            inc = -1 * inc\n",
    "        end\n",
    "        if sum == sum + inc\n",
    "            println(\"Następny wyraz już nic nie zmienia: Koniec \")\n",
    "        end\n",
    "        sum = sum + inc\n",
    "        println(sum)\n",
    "        i = i + 1\n",
    "    end\n",
    "end   "
   ]
  },
  {
   "cell_type": "code",
   "execution_count": 21,
   "metadata": {},
   "outputs": [
    {
     "name": "stdout",
     "output_type": "stream",
     "text": [
      "iterator: 0  silnia: 1\n",
      "1.0\n",
      "iterator: 1  silnia: 1\n",
      "0.0\n",
      "iterator: 2  silnia: 2\n",
      "0.25\n",
      "iterator: 3  silnia: 6\n",
      "0.22222222\n",
      "iterator: 4  silnia: 24\n",
      "0.22395833\n",
      "iterator: 5  silnia: 120\n",
      "0.22388889\n",
      "iterator: 6  silnia: 720\n",
      "0.22389081\n",
      "iterator: 7  silnia: 5040\n",
      "0.22389077\n",
      "iterator: 8  silnia: 40320\n",
      "Następny wyraz już nic nie zmienia: Koniec \n",
      "0.22389077\n",
      "iterator: 9  silnia: 362880\n",
      "Następny wyraz już nic nie zmienia: Koniec \n",
      "0.22389077\n"
     ]
    }
   ],
   "source": [
    "Sn32malodwrkw(9)"
   ]
  },
  {
   "cell_type": "markdown",
   "metadata": {},
   "source": [
    "##### 11. Ciąg Sn - precyzja pojedyncza; sumowanie rosnąco; najpierw kwadrat, potem odwrotność."
   ]
  },
  {
   "cell_type": "markdown",
   "metadata": {},
   "source": [
    "##### n = 6"
   ]
  },
  {
   "cell_type": "code",
   "execution_count": 22,
   "metadata": {},
   "outputs": [
    {
     "data": {
      "text/plain": [
       "Sn32rosnkwodwr (generic function with 1 method)"
      ]
     },
     "execution_count": 22,
     "metadata": {},
     "output_type": "execute_result"
    }
   ],
   "source": [
    "function Sn32rosnkwodwr(n)\n",
    "    sum::Float32 = 0\n",
    "    i::Int64 = n\n",
    "    k::Int64 = fac(n)\n",
    "    inc::Float32 = 0\n",
    "    first::Float32 = 1\n",
    "    while i >= 0\n",
    "        if i == 0\n",
    "            sum = sum + first\n",
    "            println(\"iterator: \",i,\"  silnia: \", k)\n",
    "            println(sum)\n",
    "            i = i - 1\n",
    "        else\n",
    "            println(\"iterator: \",i,\"  silnia: \", k)\n",
    "            inc = k * k\n",
    "            inc = 1/inc\n",
    "            if i % 2 == 1\n",
    "                inc = -1 * inc\n",
    "            end\n",
    "            sum = sum + inc\n",
    "            println(sum)\n",
    "            k = k / i\n",
    "            i = i - 1\n",
    "        end\n",
    "    end\n",
    "end   "
   ]
  },
  {
   "cell_type": "code",
   "execution_count": 23,
   "metadata": {},
   "outputs": [
    {
     "name": "stdout",
     "output_type": "stream",
     "text": [
      "7 składników\n",
      "\n",
      "iterator: 7  silnia: 5040\n",
      "-3.93676e-8\n",
      "iterator: 6  silnia: 720\n",
      "1.8896448e-6\n",
      "iterator: 5  silnia: 120\n",
      "-6.75548e-5\n",
      "iterator: 4  silnia: 24\n",
      "0.0016685564\n",
      "iterator: 3  silnia: 6\n",
      "-0.026109222\n",
      "iterator: 2  silnia: 2\n",
      "0.22389078\n",
      "iterator: 1  silnia: 1\n",
      "-0.7761092\n",
      "iterator: 0  silnia: 1\n",
      "0.22389078\n",
      "\n",
      "6 składników\n",
      "\n",
      "iterator: 6  silnia: 720\n",
      "1.9290123e-6\n",
      "iterator: 5  silnia: 120\n",
      "-6.751544e-5\n",
      "iterator: 4  silnia: 24\n",
      "0.0016685957\n",
      "iterator: 3  silnia: 6\n",
      "-0.026109181\n",
      "iterator: 2  silnia: 2\n",
      "0.22389081\n",
      "iterator: 1  silnia: 1\n",
      "-0.7761092\n",
      "iterator: 0  silnia: 1\n",
      "0.22389078\n",
      "\n",
      "5 składników\n",
      "\n",
      "iterator: 5  silnia: 120\n",
      "-6.9444446e-5\n",
      "iterator: 4  silnia: 24\n",
      "0.0016666667\n",
      "iterator: 3  silnia: 6\n",
      "-0.026111111\n",
      "iterator: 2  silnia: 2\n",
      "0.22388889\n",
      "iterator: 1  silnia: 1\n",
      "-0.7761111\n",
      "iterator: 0  silnia: 1\n",
      "0.22388887\n"
     ]
    }
   ],
   "source": [
    "println(\"7 składników\")\n",
    "println(\"\")\n",
    "Sn32rosnkwodwr(7)\n",
    "println(\"\")\n",
    "println(\"6 składników\")\n",
    "println(\"\")\n",
    "Sn32rosnkwodwr(6)\n",
    "println(\"\")\n",
    "println(\"5 składników\")\n",
    "println(\"\")\n",
    "Sn32rosnkwodwr(5)"
   ]
  },
  {
   "cell_type": "markdown",
   "metadata": {},
   "source": [
    "##### 12. Ciąg Sn - precyzja pojedyncza; sumowanie rosnąco; najpierw odwrotność, potem kwadrat."
   ]
  },
  {
   "cell_type": "markdown",
   "metadata": {},
   "source": [
    "##### n = 6"
   ]
  },
  {
   "cell_type": "code",
   "execution_count": 24,
   "metadata": {},
   "outputs": [
    {
     "data": {
      "text/plain": [
       "Sn32rosnodwrkw (generic function with 1 method)"
      ]
     },
     "execution_count": 24,
     "metadata": {},
     "output_type": "execute_result"
    }
   ],
   "source": [
    "  function Sn32rosnodwrkw(n)\n",
    "    sum::Float32 = 0\n",
    "    i::Int64 = n\n",
    "    k::Int64 = fac(n)\n",
    "    inc::Float32 = 0\n",
    "    first::Float32 = 1\n",
    "    while i >= 0\n",
    "        if i == 0\n",
    "            sum = sum + first\n",
    "            println(\"iterator: \",i,\"  silnia: \", k)\n",
    "            println(sum)\n",
    "            i = i - 1\n",
    "        else\n",
    "            println(\"iterator: \",i,\"  silnia: \", k)\n",
    "            inc = 1/k\n",
    "            inc = inc * inc\n",
    "            if i % 2 == 1\n",
    "                inc = -1 * inc\n",
    "            end\n",
    "            sum = sum + inc\n",
    "            println(sum)\n",
    "            k = k / i\n",
    "            i = i - 1\n",
    "        end\n",
    "    end\n",
    "end   "
   ]
  },
  {
   "cell_type": "code",
   "execution_count": 25,
   "metadata": {},
   "outputs": [
    {
     "name": "stdout",
     "output_type": "stream",
     "text": [
      "7 składników\n",
      "\n",
      "iterator: 7  silnia: 5040\n",
      "-3.93676e-8\n",
      "iterator: 6  silnia: 720\n",
      "1.8896448e-6\n",
      "iterator: 5  silnia: 120\n",
      "-6.755481e-5\n",
      "iterator: 4  silnia: 24\n",
      "0.0016685565\n",
      "iterator: 3  silnia: 6\n",
      "-0.026109224\n",
      "iterator: 2  silnia: 2\n",
      "0.22389078\n",
      "iterator: 1  silnia: 1\n",
      "-0.7761092\n",
      "iterator: 0  silnia: 1\n",
      "0.22389078\n",
      "\n",
      "6 składników\n",
      "\n",
      "iterator: 6  silnia: 720\n",
      "1.9290123e-6\n",
      "iterator: 5  silnia: 120\n",
      "-6.7515444e-5\n",
      "iterator: 4  silnia: 24\n",
      "0.0016685958\n",
      "iterator: 3  silnia: 6\n",
      "-0.026109183\n",
      "iterator: 2  silnia: 2\n",
      "0.22389081\n",
      "iterator: 1  silnia: 1\n",
      "-0.7761092\n",
      "iterator: 0  silnia: 1\n",
      "0.22389078\n",
      "\n",
      "5 składników\n",
      "\n",
      "iterator: 5  silnia: 120\n",
      "-6.944445e-5\n",
      "iterator: 4  silnia: 24\n",
      "0.0016666668\n",
      "iterator: 3  silnia: 6\n",
      "-0.026111113\n",
      "iterator: 2  silnia: 2\n",
      "0.22388889\n",
      "iterator: 1  silnia: 1\n",
      "-0.7761111\n",
      "iterator: 0  silnia: 1\n",
      "0.22388887\n"
     ]
    }
   ],
   "source": [
    "println(\"7 składników\")\n",
    "println(\"\")\n",
    "Sn32rosnodwrkw(7)\n",
    "println(\"\")\n",
    "println(\"6 składników\")\n",
    "println(\"\")\n",
    "Sn32rosnodwrkw(6)\n",
    "println(\"\")\n",
    "println(\"5 składników\")\n",
    "println(\"\")\n",
    "Sn32rosnodwrkw(5)"
   ]
  },
  {
   "cell_type": "markdown",
   "metadata": {},
   "source": [
    "##### 13. Ciąg Sn - precyzja podwójna; sumowanie malejąco; najpierw kwadrat, potem odwrotność."
   ]
  },
  {
   "cell_type": "markdown",
   "metadata": {},
   "source": [
    "##### n = 12"
   ]
  },
  {
   "cell_type": "code",
   "execution_count": 26,
   "metadata": {},
   "outputs": [
    {
     "data": {
      "text/plain": [
       "Sn64malkwodwr (generic function with 1 method)"
      ]
     },
     "execution_count": 26,
     "metadata": {},
     "output_type": "execute_result"
    }
   ],
   "source": [
    "function Sn64malkwodwr(n)\n",
    "    sum::Float64 = 0\n",
    "    i::Int64 = 0\n",
    "    k::Int64 = 1\n",
    "    inc::Float64 = 0\n",
    "    while i <= n\n",
    "        if i != 0\n",
    "            k = k * i\n",
    "        end\n",
    "        println(\"iterator: \",i,\"  silnia: \", k)\n",
    "        inc = 1/k\n",
    "        inc = inc * inc\n",
    "        if i % 2 == 1\n",
    "            inc = -1 * inc\n",
    "        end\n",
    "        if sum == sum + inc\n",
    "            println(\"Następny wyraz już nic nie zmienia: Koniec \")\n",
    "        end\n",
    "        sum = sum + inc\n",
    "        println(sum)\n",
    "        i = i + 1\n",
    "    end\n",
    "end "
   ]
  },
  {
   "cell_type": "code",
   "execution_count": 27,
   "metadata": {},
   "outputs": [
    {
     "name": "stdout",
     "output_type": "stream",
     "text": [
      "iterator: 0  silnia: 1\n",
      "1.0\n",
      "iterator: 1  silnia: 1\n",
      "0.0\n",
      "iterator: 2  silnia: 2\n",
      "0.25\n",
      "iterator: 3  silnia: 6\n",
      "0.2222222222222222\n",
      "iterator: 4  silnia: 24\n",
      "0.22395833333333331\n",
      "iterator: 5  silnia: 120\n",
      "0.22388888888888886\n",
      "iterator: 6  silnia: 720\n",
      "0.22389081790123455\n",
      "iterator: 7  silnia: 5040\n",
      "0.22389077853363565\n",
      "iterator: 8  silnia: 40320\n",
      "0.22389077914875438\n",
      "iterator: 9  silnia: 362880\n",
      "0.22389077914116032\n",
      "iterator: 10  silnia: 3628800\n",
      "0.22389077914123626\n",
      "iterator: 11  silnia: 39916800\n",
      "0.22389077914123562\n",
      "iterator: 12  silnia: 479001600\n",
      "Następny wyraz już nic nie zmienia: Koniec \n",
      "0.22389077914123562\n",
      "iterator: 13  silnia: 6227020800\n",
      "Następny wyraz już nic nie zmienia: Koniec \n",
      "0.22389077914123562\n"
     ]
    }
   ],
   "source": [
    "Sn64malkwodwr(13)"
   ]
  },
  {
   "cell_type": "markdown",
   "metadata": {},
   "source": [
    "##### 14. Ciąg Sn - precyzja podwójna; sumowanie malejąco; najpierw odwrotność, potem kwadrat."
   ]
  },
  {
   "cell_type": "markdown",
   "metadata": {},
   "source": [
    "##### n = 12"
   ]
  },
  {
   "cell_type": "code",
   "execution_count": 28,
   "metadata": {},
   "outputs": [
    {
     "data": {
      "text/plain": [
       "Sn64malodwrkw (generic function with 1 method)"
      ]
     },
     "execution_count": 28,
     "metadata": {},
     "output_type": "execute_result"
    }
   ],
   "source": [
    "function Sn64malodwrkw(n)\n",
    "    sum::Float64 = 0\n",
    "    i::Int64 = 0\n",
    "    k::Int64 = 1\n",
    "    inc::Float64 = 0\n",
    "    while i <= n\n",
    "        if i != 0\n",
    "            k = k * i\n",
    "        end\n",
    "        println(\"iterator: \",i,\"  silnia: \", k)\n",
    "        inc = 1/k\n",
    "        inc = inc * inc\n",
    "        if i % 2 == 1\n",
    "            inc = -1 * inc\n",
    "        end\n",
    "        if sum == sum + inc\n",
    "            println(\"Następny wyraz już nic nie zmienia: Koniec \")\n",
    "        end\n",
    "        sum = sum + inc\n",
    "        println(sum)\n",
    "        i = i + 1\n",
    "    end\n",
    "end "
   ]
  },
  {
   "cell_type": "code",
   "execution_count": 29,
   "metadata": {},
   "outputs": [
    {
     "name": "stdout",
     "output_type": "stream",
     "text": [
      "iterator: 0  silnia: 1\n",
      "1.0\n",
      "iterator: 1  silnia: 1\n",
      "0.0\n",
      "iterator: 2  silnia: 2\n",
      "0.25\n",
      "iterator: 3  silnia: 6\n",
      "0.2222222222222222\n",
      "iterator: 4  silnia: 24\n",
      "0.22395833333333331\n",
      "iterator: 5  silnia: 120\n",
      "0.22388888888888886\n",
      "iterator: 6  silnia: 720\n",
      "0.22389081790123455\n",
      "iterator: 7  silnia: 5040\n",
      "0.22389077853363565\n",
      "iterator: 8  silnia: 40320\n",
      "0.22389077914875438\n",
      "iterator: 9  silnia: 362880\n",
      "0.22389077914116032\n",
      "iterator: 10  silnia: 3628800\n",
      "0.22389077914123626\n",
      "iterator: 11  silnia: 39916800\n",
      "0.22389077914123562\n",
      "iterator: 12  silnia: 479001600\n",
      "Następny wyraz już nic nie zmienia: Koniec \n",
      "0.22389077914123562\n",
      "iterator: 13  silnia: 6227020800\n",
      "Następny wyraz już nic nie zmienia: Koniec \n",
      "0.22389077914123562\n"
     ]
    }
   ],
   "source": [
    "Sn64malodwrkw(13)"
   ]
  },
  {
   "cell_type": "markdown",
   "metadata": {},
   "source": [
    "##### 15. Ciąg Sn - precyzja podwójna; sumowanie rosnąco; najpierw kwadrat, potem odwrotność."
   ]
  },
  {
   "cell_type": "markdown",
   "metadata": {},
   "source": [
    "##### n = 11"
   ]
  },
  {
   "cell_type": "code",
   "execution_count": 30,
   "metadata": {},
   "outputs": [
    {
     "data": {
      "text/plain": [
       "Sn64rosnkwodwr (generic function with 1 method)"
      ]
     },
     "execution_count": 30,
     "metadata": {},
     "output_type": "execute_result"
    }
   ],
   "source": [
    "function Sn64rosnkwodwr(n)\n",
    "    sum::Float64 = 0\n",
    "    i::Int64 = n\n",
    "    k::Int64 = fac(n)\n",
    "    inc::Float64 = 0\n",
    "    first::Float64 = 1\n",
    "    while i >= 0\n",
    "        if i == 0\n",
    "            sum = sum + first\n",
    "            println(\"iterator: \",i,\"  silnia: \", k)\n",
    "            println(sum)\n",
    "            i = i - 1\n",
    "        else\n",
    "            println(\"iterator: \",i,\"  silnia: \", k)\n",
    "            inc = k * k\n",
    "            inc = 1/inc\n",
    "            if i % 2 == 1\n",
    "                inc = -1 * inc\n",
    "            end\n",
    "            sum = sum + inc\n",
    "            println(sum)\n",
    "            k = k / i\n",
    "            i = i - 1\n",
    "        end\n",
    "    end\n",
    "end   "
   ]
  },
  {
   "cell_type": "code",
   "execution_count": 31,
   "metadata": {},
   "outputs": [
    {
     "name": "stdout",
     "output_type": "stream",
     "text": [
      "12 składników\n",
      "\n",
      "iterator: 12  silnia: 479001600\n",
      "4.358389823304995e-18\n",
      "iterator: 11  silnia: 39916800\n",
      "-6.232497447326144e-16\n",
      "iterator: 10  silnia: 3628800\n",
      "7.531733453653362e-14\n",
      "iterator: 9  silnia: 362880\n",
      "-7.51874109359009e-12\n",
      "iterator: 8  silnia: 40320\n",
      "6.075999915846664e-10\n",
      "iterator: 7  silnia: 5040\n",
      "-3.875999889982375e-8\n",
      "iterator: 6  silnia: 720\n",
      "1.8902523467791886e-6\n",
      "iterator: 5  silnia: 120\n",
      "-6.755419209766526e-5\n",
      "iterator: 4  silnia: 24\n",
      "0.0016685569190134457\n",
      "iterator: 3  silnia: 6\n",
      "-0.02610922085876433\n",
      "iterator: 2  silnia: 2\n",
      "0.22389077914123567\n",
      "iterator: 1  silnia: 1\n",
      "-0.7761092208587643\n",
      "iterator: 0  silnia: 1\n",
      "0.22389077914123567\n",
      "\n",
      "11 składników\n",
      "\n",
      "iterator: 11  silnia: 39916800\n",
      "-6.276081345559193e-16\n",
      "iterator: 10  silnia: 3628800\n",
      "7.531297614671031e-14\n",
      "iterator: 9  silnia: 362880\n",
      "-7.518745451979913e-12\n",
      "iterator: 8  silnia: 40320\n",
      "6.075999872262766e-10\n",
      "iterator: 7  silnia: 5040\n",
      "-3.875999890418214e-8\n",
      "iterator: 6  silnia: 720\n",
      "1.8902523467748302e-6\n",
      "iterator: 5  silnia: 120\n",
      "-6.755419209766961e-5\n",
      "iterator: 4  silnia: 24\n",
      "0.0016685569190134414\n",
      "iterator: 3  silnia: 6\n",
      "-0.026109220858764336\n",
      "iterator: 2  silnia: 2\n",
      "0.22389077914123567\n",
      "iterator: 1  silnia: 1\n",
      "-0.7761092208587643\n",
      "iterator: 0  silnia: 1\n",
      "0.22389077914123567\n",
      "\n",
      "10 składników\n",
      "\n",
      "iterator: 10  silnia: 3628800\n",
      "7.594058428126623e-14\n",
      "iterator: 9  silnia: 362880\n",
      "-7.518117843845357e-12\n",
      "iterator: 8  silnia: 40320\n",
      "6.076006148344112e-10\n",
      "iterator: 7  silnia: 5040\n",
      "-3.875999827657401e-8\n",
      "iterator: 6  silnia: 720\n",
      "1.8902523474024384e-6\n",
      "iterator: 5  silnia: 120\n",
      "-6.7554192097042e-5\n",
      "iterator: 4  silnia: 24\n",
      "0.001668556919014069\n",
      "iterator: 3  silnia: 6\n",
      "-0.02610922085876371\n",
      "iterator: 2  silnia: 2\n",
      "0.22389077914123628\n",
      "iterator: 1  silnia: 1\n",
      "-0.7761092208587637\n",
      "iterator: 0  silnia: 1\n",
      "0.22389077914123634\n"
     ]
    }
   ],
   "source": [
    "println(\"12 składników\")\n",
    "println(\"\")\n",
    "Sn64rosnkwodwr(12)\n",
    "println(\"\")\n",
    "println(\"11 składników\")\n",
    "println(\"\")\n",
    "Sn64rosnkwodwr(11)\n",
    "println(\"\")\n",
    "println(\"10 składników\")\n",
    "println(\"\")\n",
    "Sn64rosnkwodwr(10)"
   ]
  },
  {
   "cell_type": "markdown",
   "metadata": {},
   "source": [
    "##### 16. Ciąg Sn - precyzja podwójna; sumowanie rosnąco; najpierw odwrotność, potem kwadrat."
   ]
  },
  {
   "cell_type": "markdown",
   "metadata": {},
   "source": [
    "##### n = 11"
   ]
  },
  {
   "cell_type": "code",
   "execution_count": 32,
   "metadata": {},
   "outputs": [
    {
     "data": {
      "text/plain": [
       "Sn64rosnodwrkw (generic function with 1 method)"
      ]
     },
     "execution_count": 32,
     "metadata": {},
     "output_type": "execute_result"
    }
   ],
   "source": [
    "  function Sn64rosnodwrkw(n)\n",
    "    sum::Float64 = 0\n",
    "    i::Int64 = n\n",
    "    k::Int64 = fac(n)\n",
    "    inc::Float64 = 0\n",
    "    first::Float64 = 1\n",
    "    while i >= 0\n",
    "        if i == 0\n",
    "            sum = sum + first\n",
    "            println(\"iterator: \",i,\"  silnia: \", k)\n",
    "            println(sum)\n",
    "            i = i - 1\n",
    "        else\n",
    "            println(\"iterator: \",i,\"  silnia: \", k)\n",
    "            inc = 1/k\n",
    "            inc = inc * inc\n",
    "            if i % 2 == 1\n",
    "                inc = -1 * inc\n",
    "            end\n",
    "            sum = sum + inc\n",
    "            println(sum)\n",
    "            k = k / i\n",
    "            i = i - 1\n",
    "        end\n",
    "    end\n",
    "end   "
   ]
  },
  {
   "cell_type": "code",
   "execution_count": 33,
   "metadata": {},
   "outputs": [
    {
     "name": "stdout",
     "output_type": "stream",
     "text": [
      "12 składników\n",
      "\n",
      "iterator: 12  silnia: 479001600\n",
      "4.358389823304996e-18\n",
      "iterator: 11  silnia: 39916800\n",
      "-6.232497447326144e-16\n",
      "iterator: 10  silnia: 3628800\n",
      "7.531733453653361e-14\n",
      "iterator: 9  silnia: 362880\n",
      "-7.51874109359009e-12\n",
      "iterator: 8  silnia: 40320\n",
      "6.075999915846664e-10\n",
      "iterator: 7  silnia: 5040\n",
      "-3.875999889982375e-8\n",
      "iterator: 6  silnia: 720\n",
      "1.8902523467791886e-6\n",
      "iterator: 5  silnia: 120\n",
      "-6.755419209766526e-5\n",
      "iterator: 4  silnia: 24\n",
      "0.0016685569190134457\n",
      "iterator: 3  silnia: 6\n",
      "-0.02610922085876433\n",
      "iterator: 2  silnia: 2\n",
      "0.22389077914123567\n",
      "iterator: 1  silnia: 1\n",
      "-0.7761092208587643\n",
      "iterator: 0  silnia: 1\n",
      "0.22389077914123567\n",
      "\n",
      "11 składników\n",
      "\n",
      "iterator: 11  silnia: 39916800\n",
      "-6.276081345559193e-16\n",
      "iterator: 10  silnia: 3628800\n",
      "7.53129761467103e-14\n",
      "iterator: 9  silnia: 362880\n",
      "-7.518745451979913e-12\n",
      "iterator: 8  silnia: 40320\n",
      "6.075999872262766e-10\n",
      "iterator: 7  silnia: 5040\n",
      "-3.875999890418214e-8\n",
      "iterator: 6  silnia: 720\n",
      "1.8902523467748302e-6\n",
      "iterator: 5  silnia: 120\n",
      "-6.755419209766961e-5\n",
      "iterator: 4  silnia: 24\n",
      "0.0016685569190134414\n",
      "iterator: 3  silnia: 6\n",
      "-0.026109220858764336\n",
      "iterator: 2  silnia: 2\n",
      "0.22389077914123567\n",
      "iterator: 1  silnia: 1\n",
      "-0.7761092208587643\n",
      "iterator: 0  silnia: 1\n",
      "0.22389077914123567\n",
      "\n",
      "10 składników\n",
      "\n",
      "iterator: 10  silnia: 3628800\n",
      "7.594058428126622e-14\n",
      "iterator: 9  silnia: 362880\n",
      "-7.518117843845357e-12\n",
      "iterator: 8  silnia: 40320\n",
      "6.076006148344112e-10\n",
      "iterator: 7  silnia: 5040\n",
      "-3.875999827657401e-8\n",
      "iterator: 6  silnia: 720\n",
      "1.8902523474024384e-6\n",
      "iterator: 5  silnia: 120\n",
      "-6.7554192097042e-5\n",
      "iterator: 4  silnia: 24\n",
      "0.001668556919014069\n",
      "iterator: 3  silnia: 6\n",
      "-0.02610922085876371\n",
      "iterator: 2  silnia: 2\n",
      "0.22389077914123628\n",
      "iterator: 1  silnia: 1\n",
      "-0.7761092208587637\n",
      "iterator: 0  silnia: 1\n",
      "0.22389077914123634\n"
     ]
    }
   ],
   "source": [
    "println(\"12 składników\")\n",
    "println(\"\")\n",
    "Sn64rosnodwrkw(12)\n",
    "println(\"\")\n",
    "println(\"11 składników\")\n",
    "println(\"\")\n",
    "Sn64rosnodwrkw(11)\n",
    "println(\"\")\n",
    "println(\"10 składników\")\n",
    "println(\"\")\n",
    "Sn64rosnodwrkw(10)"
   ]
  },
  {
   "cell_type": "markdown",
   "metadata": {},
   "source": [
    "### Wykresy:"
   ]
  },
  {
   "cell_type": "code",
   "execution_count": 69,
   "metadata": {},
   "outputs": [
    {
     "data": {
      "application/vnd.plotly.v1+json": {
       "data": [
        {
         "colorbar": {
          "title": ""
         },
         "hoverinfo": "text",
         "legendgroup": "Tn",
         "line": {
          "color": "rgba(0, 154, 250, 1.000)",
          "dash": "solid",
          "shape": "linear",
          "width": 1
         },
         "mode": "lines",
         "name": "Tn",
         "showlegend": true,
         "text": [
          null,
          null,
          null,
          null,
          null,
          null,
          null,
          null,
          null,
          null
         ],
         "type": "scatter",
         "x": [
          0,
          1,
          2,
          3,
          4,
          5,
          6,
          7,
          8,
          9
         ],
         "xaxis": "x1",
         "y": [
          1,
          2,
          2.25,
          2.277777671813965,
          2.2795138359069824,
          2.279583215713501,
          2.279585123062134,
          2.279585123062134,
          2.279585123062134,
          2.279585123062134
         ],
         "yaxis": "y1",
         "zmax": 0.1,
         "zmin": -0.1
        }
       ],
       "layout": {
        "annotations": [
         {
          "font": {
           "color": "rgba(0, 0, 0, 1.000)",
           "family": "sans-serif",
           "size": 20
          },
          "rotation": 0,
          "showarrow": false,
          "text": "Wartości wyrazów Tn (float32, malejąca kolejność)",
          "x": 0.5222222222222223,
          "xanchor": "center",
          "xref": "paper",
          "y": 1,
          "yanchor": "top",
          "yref": "paper"
         }
        ],
        "height": 400,
        "legend": {
         "bgcolor": "rgba(255, 255, 255, 1.000)",
         "bordercolor": "rgba(0, 0, 0, 1.000)",
         "font": {
          "color": "rgba(0, 0, 0, 1.000)",
          "family": "sans-serif",
          "size": 11
         },
         "tracegroupgap": 0,
         "x": 1,
         "y": 1
        },
        "margin": {
         "b": 20,
         "l": 0,
         "r": 0,
         "t": 20
        },
        "paper_bgcolor": "rgba(255, 255, 255, 1.000)",
        "plot_bgcolor": "rgba(255, 255, 255, 1.000)",
        "showlegend": true,
        "width": 600,
        "xaxis": {
         "anchor": "y1",
         "domain": [
          0.05100612423447069,
          0.9934383202099737
         ],
         "gridcolor": "rgba(0, 0, 0, 0.100)",
         "gridwidth": 0.5,
         "linecolor": "rgba(0, 0, 0, 1.000)",
         "mirror": false,
         "range": [
          -0.27,
          9.27
         ],
         "showgrid": true,
         "showline": true,
         "showticklabels": true,
         "tickangle": 0,
         "tickcolor": "rgb(0, 0, 0)",
         "tickfont": {
          "color": "rgba(0, 0, 0, 1.000)",
          "family": "sans-serif",
          "size": 11
         },
         "tickmode": "array",
         "ticks": "inside",
         "ticktext": [
          "0",
          "2",
          "4",
          "6",
          "8"
         ],
         "tickvals": [
          0,
          2,
          4,
          6,
          8
         ],
         "title": "",
         "titlefont": {
          "color": "rgba(0, 0, 0, 1.000)",
          "family": "sans-serif",
          "size": 15
         },
         "type": "-",
         "visible": true,
         "zeroline": false,
         "zerolinecolor": "rgba(0, 0, 0, 1.000)"
        },
        "yaxis": {
         "anchor": "x1",
         "domain": [
          0.03762029746281716,
          0.9415463692038496
         ],
         "gridcolor": "rgba(0, 0, 0, 0.100)",
         "gridwidth": 0.5,
         "linecolor": "rgba(0, 0, 0, 1.000)",
         "mirror": false,
         "range": [
          0.961612446308136,
          2.317972676753998
         ],
         "showgrid": true,
         "showline": true,
         "showticklabels": true,
         "tickangle": 0,
         "tickcolor": "rgb(0, 0, 0)",
         "tickfont": {
          "color": "rgba(0, 0, 0, 1.000)",
          "family": "sans-serif",
          "size": 11
         },
         "tickmode": "array",
         "ticks": "inside",
         "ticktext": [
          "1.2",
          "1.5",
          "1.8",
          "2.1"
         ],
         "tickvals": [
          1.2000000000000002,
          1.5000000000000002,
          1.8000000000000003,
          2.1000000000000005
         ],
         "title": "",
         "titlefont": {
          "color": "rgba(0, 0, 0, 1.000)",
          "family": "sans-serif",
          "size": 15
         },
         "type": "-",
         "visible": true,
         "zeroline": false,
         "zerolinecolor": "rgba(0, 0, 0, 1.000)"
        }
       }
      },
      "text/html": [
       "<!DOCTYPE html>\n",
       "<html>\n",
       "    <head>\n",
       "        <title>Plots.jl</title>\n",
       "        <meta http-equiv=\"content-type\" content=\"text/html; charset=UTF-8\">\n",
       "        <script src=\"https://cdn.plot.ly/plotly-latest.min.js\"></script>\n",
       "    </head>\n",
       "    <body>\n",
       "            <div id=\"68de0944-084f-4b3d-ad21-ded22187bd36\" style=\"width:600px;height:400px;\"></div>\n",
       "    <script>\n",
       "    PLOT = document.getElementById('68de0944-084f-4b3d-ad21-ded22187bd36');\n",
       "    Plotly.plot(PLOT, [\n",
       "    {\n",
       "        \"xaxis\": \"x1\",\n",
       "        \"colorbar\": {\n",
       "            \"title\": \"\"\n",
       "        },\n",
       "        \"yaxis\": \"y1\",\n",
       "        \"text\": [\n",
       "            null,\n",
       "            null,\n",
       "            null,\n",
       "            null,\n",
       "            null,\n",
       "            null,\n",
       "            null,\n",
       "            null,\n",
       "            null,\n",
       "            null\n",
       "        ],\n",
       "        \"x\": [\n",
       "            0.0,\n",
       "            1.0,\n",
       "            2.0,\n",
       "            3.0,\n",
       "            4.0,\n",
       "            5.0,\n",
       "            6.0,\n",
       "            7.0,\n",
       "            8.0,\n",
       "            9.0\n",
       "        ],\n",
       "        \"showlegend\": true,\n",
       "        \"mode\": \"lines\",\n",
       "        \"name\": \"Tn\",\n",
       "        \"zmin\": -0.1,\n",
       "        \"legendgroup\": \"Tn\",\n",
       "        \"zmax\": 0.1,\n",
       "        \"line\": {\n",
       "            \"color\": \"rgba(0, 154, 250, 1.000)\",\n",
       "            \"shape\": \"linear\",\n",
       "            \"dash\": \"solid\",\n",
       "            \"width\": 1\n",
       "        },\n",
       "        \"y\": [\n",
       "            1.0,\n",
       "            2.0,\n",
       "            2.25,\n",
       "            2.277777671813965,\n",
       "            2.2795138359069824,\n",
       "            2.279583215713501,\n",
       "            2.279585123062134,\n",
       "            2.279585123062134,\n",
       "            2.279585123062134,\n",
       "            2.279585123062134\n",
       "        ],\n",
       "        \"type\": \"scatter\",\n",
       "        \"hoverinfo\": \"text\"\n",
       "    }\n",
       "]\n",
       ", {\n",
       "    \"showlegend\": true,\n",
       "    \"xaxis\": {\n",
       "        \"showticklabels\": true,\n",
       "        \"gridwidth\": 0.5,\n",
       "        \"tickvals\": [\n",
       "            0.0,\n",
       "            2.0,\n",
       "            4.0,\n",
       "            6.0,\n",
       "            8.0\n",
       "        ],\n",
       "        \"visible\": true,\n",
       "        \"ticks\": \"inside\",\n",
       "        \"range\": [\n",
       "            -0.27,\n",
       "            9.27\n",
       "        ],\n",
       "        \"domain\": [\n",
       "            0.05100612423447069,\n",
       "            0.9934383202099737\n",
       "        ],\n",
       "        \"tickmode\": \"array\",\n",
       "        \"linecolor\": \"rgba(0, 0, 0, 1.000)\",\n",
       "        \"showgrid\": true,\n",
       "        \"title\": \"\",\n",
       "        \"mirror\": false,\n",
       "        \"tickangle\": 0,\n",
       "        \"showline\": true,\n",
       "        \"gridcolor\": \"rgba(0, 0, 0, 0.100)\",\n",
       "        \"titlefont\": {\n",
       "            \"color\": \"rgba(0, 0, 0, 1.000)\",\n",
       "            \"family\": \"sans-serif\",\n",
       "            \"size\": 15\n",
       "        },\n",
       "        \"tickcolor\": \"rgb(0, 0, 0)\",\n",
       "        \"ticktext\": [\n",
       "            \"0\",\n",
       "            \"2\",\n",
       "            \"4\",\n",
       "            \"6\",\n",
       "            \"8\"\n",
       "        ],\n",
       "        \"zeroline\": false,\n",
       "        \"type\": \"-\",\n",
       "        \"tickfont\": {\n",
       "            \"color\": \"rgba(0, 0, 0, 1.000)\",\n",
       "            \"family\": \"sans-serif\",\n",
       "            \"size\": 11\n",
       "        },\n",
       "        \"zerolinecolor\": \"rgba(0, 0, 0, 1.000)\",\n",
       "        \"anchor\": \"y1\"\n",
       "    },\n",
       "    \"paper_bgcolor\": \"rgba(255, 255, 255, 1.000)\",\n",
       "    \"annotations\": [\n",
       "        {\n",
       "            \"yanchor\": \"top\",\n",
       "            \"xanchor\": \"center\",\n",
       "            \"rotation\": -0.0,\n",
       "            \"y\": 1.0,\n",
       "            \"font\": {\n",
       "                \"color\": \"rgba(0, 0, 0, 1.000)\",\n",
       "                \"family\": \"sans-serif\",\n",
       "                \"size\": 20\n",
       "            },\n",
       "            \"yref\": \"paper\",\n",
       "            \"showarrow\": false,\n",
       "            \"text\": \"Wartości wyrazów Tn (float32, malejąca kolejność)\",\n",
       "            \"xref\": \"paper\",\n",
       "            \"x\": 0.5222222222222223\n",
       "        }\n",
       "    ],\n",
       "    \"height\": 400,\n",
       "    \"margin\": {\n",
       "        \"l\": 0,\n",
       "        \"b\": 20,\n",
       "        \"r\": 0,\n",
       "        \"t\": 20\n",
       "    },\n",
       "    \"plot_bgcolor\": \"rgba(255, 255, 255, 1.000)\",\n",
       "    \"yaxis\": {\n",
       "        \"showticklabels\": true,\n",
       "        \"gridwidth\": 0.5,\n",
       "        \"tickvals\": [\n",
       "            1.2000000000000002,\n",
       "            1.5000000000000002,\n",
       "            1.8000000000000003,\n",
       "            2.1000000000000005\n",
       "        ],\n",
       "        \"visible\": true,\n",
       "        \"ticks\": \"inside\",\n",
       "        \"range\": [\n",
       "            0.961612446308136,\n",
       "            2.317972676753998\n",
       "        ],\n",
       "        \"domain\": [\n",
       "            0.03762029746281716,\n",
       "            0.9415463692038496\n",
       "        ],\n",
       "        \"tickmode\": \"array\",\n",
       "        \"linecolor\": \"rgba(0, 0, 0, 1.000)\",\n",
       "        \"showgrid\": true,\n",
       "        \"title\": \"\",\n",
       "        \"mirror\": false,\n",
       "        \"tickangle\": 0,\n",
       "        \"showline\": true,\n",
       "        \"gridcolor\": \"rgba(0, 0, 0, 0.100)\",\n",
       "        \"titlefont\": {\n",
       "            \"color\": \"rgba(0, 0, 0, 1.000)\",\n",
       "            \"family\": \"sans-serif\",\n",
       "            \"size\": 15\n",
       "        },\n",
       "        \"tickcolor\": \"rgb(0, 0, 0)\",\n",
       "        \"ticktext\": [\n",
       "            \"1.2\",\n",
       "            \"1.5\",\n",
       "            \"1.8\",\n",
       "            \"2.1\"\n",
       "        ],\n",
       "        \"zeroline\": false,\n",
       "        \"type\": \"-\",\n",
       "        \"tickfont\": {\n",
       "            \"color\": \"rgba(0, 0, 0, 1.000)\",\n",
       "            \"family\": \"sans-serif\",\n",
       "            \"size\": 11\n",
       "        },\n",
       "        \"zerolinecolor\": \"rgba(0, 0, 0, 1.000)\",\n",
       "        \"anchor\": \"x1\"\n",
       "    },\n",
       "    \"legend\": {\n",
       "        \"tracegroupgap\": 0,\n",
       "        \"bordercolor\": \"rgba(0, 0, 0, 1.000)\",\n",
       "        \"bgcolor\": \"rgba(255, 255, 255, 1.000)\",\n",
       "        \"font\": {\n",
       "            \"color\": \"rgba(0, 0, 0, 1.000)\",\n",
       "            \"family\": \"sans-serif\",\n",
       "            \"size\": 11\n",
       "        },\n",
       "        \"y\": 1.0,\n",
       "        \"x\": 1.0\n",
       "    },\n",
       "    \"width\": 600\n",
       "}\n",
       ");\n",
       "    </script>\n",
       "\n",
       "    </body>\n",
       "</html>\n"
      ]
     },
     "execution_count": 69,
     "metadata": {},
     "output_type": "execute_result"
    }
   ],
   "source": [
    "using Plots\n",
    "plotly()\n",
    "x = 0:9; y = map((x) -> Tn32malkwodwrwykres(x), 0:9);\n",
    "plot(x,y, label = \"Tn\", title=\"Wartości wyrazów Tn (float32, malejąca kolejność)\")\n",
    "\n",
    "#Wykresy przy tak małych danych są nieczytelne\n"
   ]
  },
  {
   "cell_type": "code",
   "execution_count": null,
   "metadata": {},
   "outputs": [],
   "source": []
  },
  {
   "cell_type": "code",
   "execution_count": null,
   "metadata": {},
   "outputs": [],
   "source": []
  }
 ],
 "metadata": {
  "kernelspec": {
   "display_name": "Julia 1.2.0",
   "language": "julia",
   "name": "julia-1.2"
  },
  "language_info": {
   "file_extension": ".jl",
   "mimetype": "application/julia",
   "name": "julia",
   "version": "1.2.0"
  }
 },
 "nbformat": 4,
 "nbformat_minor": 2
}
