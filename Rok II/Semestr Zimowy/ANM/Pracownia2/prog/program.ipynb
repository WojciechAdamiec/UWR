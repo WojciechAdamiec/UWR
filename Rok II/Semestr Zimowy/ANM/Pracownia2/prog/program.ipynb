{
 "cells": [
  {
   "cell_type": "markdown",
   "metadata": {},
   "source": [
    "# Pracownia 2\n",
    "# Analiza Numeryczna (M)\n",
    "# Wojciech Adamiec, 310064\n",
    "# Zad P2.9"
   ]
  },
  {
   "cell_type": "code",
   "execution_count": 35,
   "metadata": {},
   "outputs": [
    {
     "data": {
      "text/plain": [
       "aprox (generic function with 1 method)"
      ]
     },
     "execution_count": 35,
     "metadata": {},
     "output_type": "execute_result"
    }
   ],
   "source": [
    "function aprox(X, Y)\n",
    "    Yl = Float64[]\n",
    "    m = size(X, 1)\n",
    "    sumX = Float64\n",
    "    sumX2 = Float64\n",
    "    sumYl = Float64\n",
    "    sumYlX = Float64\n",
    "    for value in Y\n",
    "        push!(Yl, log(value))\n",
    "    end\n",
    "    sumX = 0\n",
    "    for value in X\n",
    "        sumX = sumX + value\n",
    "    end\n",
    "    sumX2 = 0\n",
    "    for value in X\n",
    "        sumX2 = sumX2 + value * value\n",
    "    end\n",
    "    sumYl = 0\n",
    "    for value in Yl\n",
    "        sumYl = sumYl + value\n",
    "    end\n",
    "    sumYlX = 0\n",
    "    for i in eachindex(X)\n",
    "        sumYlX = sumYlX + X[i] * Yl[i]\n",
    "    end\n",
    "    print(\"===\")\n",
    "    print(\"\\n\", m,\"\\n\", sumX,\"\\n\", sumX2,\"\\n\", sumYl,\"\\n\", sumYlX, \"\\n\")\n",
    "    W = m * sumX2 - sumX * sumX\n",
    "    WA = sumYl * sumX2 - sumX * sumYlX \n",
    "    WB = m * sumYlX - sumYl * sumX\n",
    "    print(\"W: \", W, \"\\n\")\n",
    "    print(\"Wa: \", WA, \"\\n\")\n",
    "    print(\"Wb: \", WB, \"\\n\")\n",
    "    A = WA/W\n",
    "    B = WB/W\n",
    "    print(\"A: \", A, \"\\n\")\n",
    "    print(\"B: \", B, \"\\n\")\n",
    "    e = 2.71828182845904523536\n",
    "    a = e^A\n",
    "    b = e^B\n",
    "    print(\"a: \", a, \"\\n\")\n",
    "    print(\"b: \", b, \"\\n\")\n",
    "end"
   ]
  },
  {
   "cell_type": "code",
   "execution_count": 36,
   "metadata": {},
   "outputs": [
    {
     "name": "stdout",
     "output_type": "stream",
     "text": [
      "===\n",
      "5\n",
      "15.0\n",
      "55.0\n",
      "10.39720770839918\n",
      "38.123094930796995\n",
      "W: 50.0\n",
      "Wa: 0.0\n",
      "Wb: 34.65735902799727\n",
      "A: 0.0\n",
      "B: 0.6931471805599455\n",
      "a: 1.0\n",
      "b: 2.0000000000000004\n"
     ]
    }
   ],
   "source": [
    "X = [1.0, 2, 3, 4, 5]\n",
    "Y = [2.0, 4, 8, 16, 32]\n",
    "aprox(X, Y)"
   ]
  },
  {
   "cell_type": "code",
   "execution_count": 37,
   "metadata": {},
   "outputs": [
    {
     "name": "stdout",
     "output_type": "stream",
     "text": [
      "===\n",
      "5\n",
      "15.0\n",
      "55.0\n",
      "19.933597142397538\n",
      "70.83616855347242\n",
      "W: 50.0\n",
      "Wa: 33.80531452977834\n",
      "Wb: 55.176885631399045\n",
      "A: 0.6761062905955668\n",
      "B: 1.1035377126279808\n",
      "a: 1.966206969493115\n",
      "b: 3.0148127213999327\n"
     ]
    }
   ],
   "source": [
    "X = [1.0, 2, 3, 4, 5]\n",
    "Y = [5.87, 18.05, 54.1, 162.6, 487.1]\n",
    "aprox(X, Y)"
   ]
  },
  {
   "cell_type": "code",
   "execution_count": 41,
   "metadata": {},
   "outputs": [
    {
     "name": "stdout",
     "output_type": "stream",
     "text": [
      "===\n",
      "3\n",
      "79.94229999999999\n",
      "2645.4398122899997\n",
      "41.9332544088239\n",
      "1348.8803406590796\n",
      "W: 1545.5481075800008\n",
      "Wa: 3099.30381491757\n",
      "Wb: 694.4002180507164\n",
      "A: 2.005310478345718\n",
      "B: 0.44929058800893573\n",
      "a: 7.428399896068936\n",
      "b: 1.5672000005653546\n"
     ]
    }
   ],
   "source": [
    "X = [12.5677, 23.2512, 44.1234]\n",
    "Y = [2104.556, 255724.457, 3023070299.5619]\n",
    "aprox(X, Y)"
   ]
  },
  {
   "cell_type": "code",
   "execution_count": 42,
   "metadata": {},
   "outputs": [
    {
     "name": "stdout",
     "output_type": "stream",
     "text": [
      "===\n",
      "3\n",
      "79.93\n",
      "2644.8904999999995\n",
      "41.932041291241944\n",
      "1348.717044782969\n",
      "W: 1545.8665999999976\n",
      "Wa: 3102.7042673108226\n",
      "Wb: 694.5230739399381\n",
      "A: 2.0070970336708402\n",
      "B: 0.4492774951861559\n",
      "a: 7.441683005432217\n",
      "b: 1.5671794816278122\n"
     ]
    }
   ],
   "source": [
    "X = [12.56, 23.25, 44.12]\n",
    "Y = [2102, 255725, 3023070315]\n",
    "aprox(X, Y)"
   ]
  },
  {
   "cell_type": "code",
   "execution_count": 43,
   "metadata": {},
   "outputs": [
    {
     "name": "stdout",
     "output_type": "stream",
     "text": [
      "===\n",
      "5\n",
      "121.63\n",
      "3557.5805\n",
      "64.67784061586207\n",
      "1842.3975328072256\n",
      "W: 2994.0456000000013\n",
      "Wa: 6005.812641756027\n",
      "Wb: 1345.2219099288259\n",
      "A: 2.0059188950749527\n",
      "B: 0.44929907210792824\n",
      "a: 7.432920834004827\n",
      "b: 1.567213296901704\n"
     ]
    }
   ],
   "source": [
    "X = [12.56, 16.2,  23.25, 25.5, 44.12]\n",
    "Y = [2102, 10760, 255725, 702365, 3023070315]\n",
    "aprox(X, Y)"
   ]
  },
  {
   "cell_type": "code",
   "execution_count": null,
   "metadata": {},
   "outputs": [],
   "source": []
  }
 ],
 "metadata": {
  "kernelspec": {
   "display_name": "Julia 1.2.0",
   "language": "julia",
   "name": "julia-1.2"
  },
  "language_info": {
   "file_extension": ".jl",
   "mimetype": "application/julia",
   "name": "julia",
   "version": "1.2.0"
  }
 },
 "nbformat": 4,
 "nbformat_minor": 2
}
