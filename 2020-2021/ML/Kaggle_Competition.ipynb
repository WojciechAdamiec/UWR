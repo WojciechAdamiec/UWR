{
  "nbformat": 4,
  "nbformat_minor": 0,
  "metadata": {
    "colab": {
      "name": "Kaggle Competition.ipynb",
      "provenance": [],
      "collapsed_sections": []
    },
    "kernelspec": {
      "name": "python3",
      "display_name": "Python 3"
    }
  },
  "cells": [
    {
      "cell_type": "code",
      "metadata": {
        "id": "SzdOqkHHdssS"
      },
      "source": [
        "# Standard IPython notebook imports\r\n",
        "%matplotlib inline\r\n",
        "\r\n",
        "import os\r\n",
        "from io import StringIO\r\n",
        "\r\n",
        "import graphviz\r\n",
        "import matplotlib.pyplot as plt\r\n",
        "import numpy as np\r\n",
        "import pandas as pd\r\n",
        "import scipy.stats as sstats\r\n",
        "import seaborn as sns\r\n",
        "import sklearn.ensemble\r\n",
        "import sklearn.tree\r\n",
        "from sklearn.linear_model import LinearRegression\r\n",
        "from tqdm import tqdm_notebook\r\n",
        "from sklearn.model_selection import train_test_split\r\n",
        "from sklearn.linear_model import LassoCV\r\n",
        "from sklearn.linear_model import LinearRegression\r\n",
        "from sklearn.feature_selection import SelectFromModel\r\n",
        "from sklearn.ensemble import ExtraTreesClassifier\r\n",
        "sns.set_style(\"whitegrid\")\r\n"
      ],
      "execution_count": null,
      "outputs": []
    },
    {
      "cell_type": "code",
      "metadata": {
        "colab": {
          "base_uri": "https://localhost:8080/"
        },
        "id": "PnT6vRFrd-Zw",
        "outputId": "f6516e7f-f81f-432c-bf5a-eda8792c8060"
      },
      "source": [
        "# Data\r\n",
        "import csv\r\n",
        "import io\r\n",
        "import urllib.request\r\n",
        "pd.set_option('display.max_columns', None)\r\n",
        "\r\n",
        "# Data urls\r\n",
        "url = 'https://storage.googleapis.com/kagglesdsdata/competitions/24762/1825116/public_data.csv?GoogleAccessId=web-data@kaggle-161607.iam.gserviceaccount.com&Expires=1610277409&Signature=E9oCjog0%2FRkxx0lP0bMQiD7xxFDuZHc1UIpIfSCVsM3MECWK8GEflouut%2B0AB9mDUivW8rtOWV%2BwfRfDm5X%2Bv7TBAo%2FbNfPO%2F5K8%2FblN3%2FT9uL2OhTmfjJAYCVYYG5uaZSAbV2F6ViU67sAK5va1VvV5eqZAAHnEQXtIbAXAiUXA3U08BT2U04yjiWsskMRZaxdqbR%2BRIVRnWe9jXyi37DDoP%2Fj9mx%2FzQN2998W10tTiUnaT88DtbDIyTF84G2LPQGgfWpq4meHvCHaM7gONyMYZfB1jYvGmMugNw3Rod0B5z%2FqD12yM0s10hKx79CqtlfJJ65ds%2F9LJGezswCo0ZQ%3D%3D&response-content-disposition=attachment%3B+filename%3Dpublic_data.csv'\r\n",
        "\r\n",
        "# Download data\r\n",
        "data = None\r\n",
        "with urllib.request.urlopen(url) as response:\r\n",
        "    data = io.StringIO(response.read().decode('UTF-8'))\r\n",
        "\r\n",
        "# Import data into dataframes\r\n",
        "names = ['target'] + [str(x + 1) for x in range(93)]\r\n",
        "data_types = {}\r\n",
        "data_types['target'] = 'string'\r\n",
        "for i in range(1, 33):\r\n",
        "    data_types[str(i)] = 'float32'\r\n",
        "for i in range(34, 73):\r\n",
        "    data_types[str(i)] = 'string'\r\n",
        "for i in range(73, 94):\r\n",
        "    data_types[str(i)] = 'bool'\r\n",
        "\r\n",
        "\r\n",
        "df = pd.read_csv(data, names=names)\r\n",
        "df = df.astype(data_types)\r\n",
        "df = df[1:]\r\n",
        "df['target'] = df['target'].map(lambda t: float(t))\r\n",
        "df['target'] = df['target'].map(lambda t: 1 if t > 0 else 0)\r\n",
        "df['target'] = df['target'].astype(bool)\r\n",
        "for i in range(34, 73):\r\n",
        "    df[str(i)] = df[str(i)].map(lambda t: t[1:])\r\n",
        "for i in range(34, 73):\r\n",
        "    df[str(i)] = df[str(i)].astype('int32')\r\n",
        "\r\n",
        "print(df.head(20))\r\n",
        "\r\n"
      ],
      "execution_count": null,
      "outputs": [
        {
          "output_type": "stream",
          "text": [
            "    target         1         2         3         4         5         6         7         8         9        10        11        12        13        14        15        16        17        18        19        20        21        22        23        24        25        26        27        28        29        30        31        32        33  34  35  36  37  38  39  40  41  42  43  44  45  46  47  48  49  50  51  52  53  54  55  56  57  58  59  60  61  62  63  64  65  66  67  68  69  70  71  72     73     74     75     76     77     78     79     80     81     82     83     84     85     86     87     88     89     90     91     92     93\n",
            "1   False   0.560880  0.486848  0.193378  0.156993  0.837331  0.046318  0.188749  0.736078  0.441067  0.698463  0.640968  0.446609  0.170447  0.195756  0.506325  0.473230  0.422064  0.637487  0.706186  0.162856  0.729169  0.062124  0.053928  0.154360  0.142998  0.183121  0.186869  0.149538  0.937433  0.131475  0.523914  0.670421  0.553797  26  9   0   2   1   1   2   30  1   1   1   0   0   11  2   0   1   1   0   0   1   1   1   2   0   0   0   26  0   0   0   1   1   0   2   1   1   0   1   False  False  False  False  False  False  True   False  False  False  False  False  False  False  False  True   False  False  False  True   False\n",
            "2   False   0.423642  0.499371  0.266511  0.220076  0.842890  0.050709  0.778227  0.928951  0.649959  0.741095  0.467836  0.623976  0.360768  0.464526  0.468078  0.720591  0.779880  0.457502  0.403229  0.178666  0.936892  0.078256  0.044363  0.338581  0.447471  0.217865  0.894152  0.218293  0.748427  0.093915  0.437425  0.636973  0.420227  26  24  0   2   1   1   0   18  1   1   1   1   0   18  26  0   0   1   1   0   1   1   1   1   0   1   0   20  0   0   0   0   1   0   2   1   1   0   1   False  False  False  False  True   True   False  False  False  False  False  False  False  False  True   True   False  False  True   False  False\n",
            "3   False   0.399282  0.171443  0.236797  0.132421  0.218262  0.015060  0.478113  0.667013  0.204753  0.423143  0.295205  0.436214  0.279230  0.604058  0.632089  0.593468  0.684844  0.532631  0.492775  0.208126  0.699623  0.095469  0.229781  0.046377  0.495956  0.293835  0.245285  0.193414  0.876173  0.269744  0.369828  0.552803  0.391703  2   24  0   2   1   1   1   24  1   1   1   1   1   11  17  0   1   1   1   1   1   1   1   2   1   0   0   8   0   0   0   0   1   0   2   1   1   0   1   False  False  False  True   False  False  False  False  False  False  False  False  False  False  True   False  False  False  True   True   True \n",
            "4   False   0.375238  0.233658  0.360073  0.331727  0.932510  0.042414  0.530401  0.462207  0.659867  0.612997  0.530398  0.502236  0.270487  0.348409  0.775074  0.558180  0.642325  0.588281  0.509691  0.160652  0.821187  0.025915  0.037465  0.503560  0.710606  0.270038  0.301544  0.960198  0.697293  0.188926  0.199593  0.845360  0.686334  22  9   0   2   1   1   0   6   1   1   1   1   0   30  5   0   1   1   1   8   1   1   1   2   1   0   0   21  0   0   0   2   1   0   2   1   1   0   1   False  False  False  False  False  False  False  False  False  False  False  False  False  False  False  True   False  False  True   True   True \n",
            "5   False   0.506671  0.175119  0.237503  0.413926  0.197257  0.042699  0.388853  0.606791  0.355147  0.501457  0.290145  0.498788  0.241697  0.518094  0.324681  0.423473  0.554706  0.269081  0.437268  0.502363  0.568866  0.080868  0.328194  0.028165  0.541146  0.190799  0.790397  0.316865  0.687546  0.568834  0.186736  0.401465  0.454780  8   9   0   2   1   1   0   9   1   1   1   1   1   6   8   0   1   1   1   0   1   1   1   2   1   1   0   8   0   0   0   2   1   0   2   1   1   1   1   False  False  False  False  True   False  False  False  False  False  False  False  False  False  False  False  False  True   True   False  True \n",
            "6   False   0.522638  0.117684  0.220708  0.591174  0.852853  0.056898  0.549287  0.532643  0.693656  0.485092  0.568535  0.174780  0.294013  0.232435  0.537190  0.468289  0.622588  0.467382  0.180048  0.188646  0.774084  0.085949  0.036279  0.328696  0.437712  0.785584  0.821084  0.107145  0.682029  0.286016  0.252855  0.597305  0.576790  26  14  0   2   1   1   1   14  1   1   1   0   1   11  26  0   1   1   0   1   1   1   1   2   1   0   0   12  0   0   0   5   1   1   2   1   1   1   1   False  False  False  False  False  False  False  False  False  False  False  False  False  False  True   False  False  False  True   True   True \n",
            "7   False   0.431349  0.687620  0.220506  0.458980  0.113759  0.025979  0.441611  0.571325  0.465133  0.540683  0.405501  0.359327  0.274046  0.438771  0.742288  0.345531  0.622910  0.540215  0.749943  0.397571  0.671920  0.064432  0.044233  0.043113  0.194530  0.216137  0.304785  0.362960  0.919023  0.409941  0.414864  0.880721  0.535787  2   9   0   2   1   1   2   4   1   1   1   1   0   24  3   0   1   1   1   1   1   1   1   2   0   1   0   8   0   0   0   1   1   0   2   1   1   1   1   False  False  False  False  True   True   False  False  False  False  False  False  False  False  False  False  False  False  True   True   True \n",
            "8   False   0.507062  0.340377  0.192699  0.251201  0.106100  0.037881  0.396255  0.466033  0.539298  0.263567  0.438093  0.549716  0.192470  0.403918  0.561538  0.452123  0.711620  0.628674  0.544722  0.294013  0.746472  0.073343  0.026796  0.036420  0.225391  0.163705  0.259478  0.271814  0.903102  0.142904  0.341496  0.648827  0.679314  8   9   0   2   1   1   0   9   1   1   1   1   1   7   27  0   1   1   1   1   0   1   1   2   1   1   0   8   0   0   0   1   1   1   2   1   1   1   1   False  False  False  False  True   False  False  False  True   False  False  True   False  False  True   True   False  False  False  False  False\n",
            "9   False   0.507648  0.675518  0.333816  0.436846  0.221213  0.043145  0.320142  0.377494  0.386210  0.549467  0.566747  0.103749  0.310677  0.743998  0.539630  0.644180  0.585922  0.369831  0.474651  0.209726  0.826531  0.056075  0.054381  0.037164  0.688393  0.379080  0.213823  0.271350  0.721539  0.205346  0.268301  0.850917  0.462427  26  24  0   0   1   1   0   24  1   1   1   1   1   11  26  0   1   1   1   0   1   1   1   0   1   1   0   14  0   0   0   0   1   1   2   1   1   1   1   False  False  False  False  False  False  True   False  False  False  False  False  False  False  True   False  False  True   True   True   True \n",
            "10  False   0.391750  0.228997  0.132830  0.181128  0.431801  0.283075  1.000000  0.385002  0.798414  0.714350  0.481745  0.117459  0.181175  0.514564  0.525400  0.370073  0.510236  0.179637  0.513990  0.150676  0.708687  0.062237  0.031047  0.074940  0.504575  0.756373  0.222933  0.125326  0.746455  0.178125  0.292721  0.599552  0.252624  0   11  0   2   1   1   0   23  1   1   0   0   1   9   0   0   2   1   1   8   1   2   1   0   1   0   0   8   0   4   0   8   1   1   0   1   1   0   0   False  False  False  False  False  False  False  False  False  False  False  False  False  False  True   False  False  False  True   True   True \n",
            "11  True    0.246917  0.234966  0.205154  0.211182  0.529355  0.017390  0.223854  0.702052  0.374755  0.282704  0.468688  0.772029  0.110636  0.473324  0.750391  0.637841  0.794513  0.408641  0.533593  0.299737  0.846830  0.281169  0.036762  0.119861  0.257348  0.313082  0.762282  0.324306  0.562048  0.124984  0.186937  0.218440  0.704475  21  24  0   2   1   1   1   24  1   1   1   0   1   14  21  0   1   1   1   1   1   1   1   2   1   0   0   21  0   0   0   1   1   0   2   1   1   1   1   False  False  False  False  True   False  False  False  True   False  False  False  False  False  False  True   True   False  True   True   False\n",
            "12  True    0.377026  0.277209  0.276104  0.221254  0.859028  0.051539  0.380504  0.382012  0.882197  0.515071  0.868434  0.873533  0.270016  0.661593  0.517932  0.689875  0.795864  0.817044  0.438256  0.263402  0.848269  0.199083  0.074324  0.370519  0.698044  0.203026  0.830219  0.126886  0.567839  0.755280  0.091304  0.601268  0.685611  8   24  0   2   1   1   0   24  1   1   1   0   0   24  8   0   1   1   1   0   1   1   1   2   0   0   0   21  0   0   0   0   1   1   2   1   1   0   1   False  False  False  False  True   True   False  False  False  False  False  True   False  False  True   True   False  False  False  True   True \n",
            "13  False   0.414464  0.275687  0.315464  0.160616  0.227349  0.027547  0.598780  0.421744  0.350655  0.559726  0.393136  0.604228  0.686086  0.527158  0.386233  0.544924  0.495112  0.367262  0.355636  0.231661  0.749416  0.045973  0.066010  0.037092  0.100264  0.400817  0.137464  0.201438  0.779461  0.075199  0.203684  0.716889  0.502676  8   11  0   2   1   1   0   11  1   1   0   0   0   14  8   0   0   1   1   2   1   2   1   2   0   0   0   2   0   0   0   2   1   0   2   0   1   1   1   False  False  False  False  True   False  False  False  False  False  False  False  False  False  False  True   False  False  True   False  False\n",
            "14  False   0.549029  0.362302  0.374177  0.413926  0.864043  0.032437  0.255618  0.547949  0.884020  0.422051  0.770869  0.403229  0.208989  0.289624  0.510613  0.468560  0.838062  0.725709  0.538916  0.461434  0.888875  0.074487  0.027890  0.701789  0.449364  0.133411  0.741200  0.209044  0.633262  0.126912  0.129332  0.152120  0.725204  22  24  0   2   1   1   1   30  1   1   1   1   0   14  22  0   1   1   1   8   1   1   1   2   0   1   0   26  0   0   0   1   1   1   2   1   1   1   1   False  False  False  False  True   False  False  False  False  False  False  False  False  False  False  False  False  False  False  False  True \n",
            "15  False   0.443174  0.766166  0.264571  1.000000  0.813789  0.219722  0.456209  0.615482  0.726941  0.484669  0.647898  0.448900  0.214866  0.331190  0.687266  0.421654  0.711460  0.826673  0.434703  0.198173  0.899173  0.083475  0.057060  0.254771  0.187719  0.187809  0.214166  0.297152  0.656652  0.496773  0.268301  0.605976  0.331075  2   24  0   2   1   1   8   2   1   1   1   1   0   11  26  0   0   1   1   2   4   1   1   0   0   0   0   8   0   0   0   2   1   0   2   1   1   0   1   False  False  False  False  False  False  False  False  False  False  False  False  False  False  False  False  False  False  False  True   True \n",
            "16  False   0.609386  0.460682  0.197711  0.926886  0.786373  0.213410  0.658522  0.410678  0.948523  0.776471  0.616836  0.622335  0.445611  0.685985  0.641348  0.717312  0.633474  0.660777  0.621189  0.604422  0.727779  0.110962  0.080827  0.292027  0.205212  0.344034  0.809759  0.277847  0.758588  0.178067  0.268301  0.784077  0.627359  26  24  0   2   1   1   5   24  1   1   1   1   1   10  22  0   0   1   1   0   1   1   1   2   0   0   0   26  0   0   0   0   1   0   2   1   1   0   1   False  False  False  True   True   True   True   False  True   False  False  True   False  False  False  True   True   False  False  True   True \n",
            "17  False   0.653253  0.503231  0.236685  0.816071  0.856261  0.023299  0.489142  0.375536  0.620329  0.540427  0.610789  0.335873  0.150676  0.220838  0.658667  0.688911  0.564067  0.400119  0.236205  0.237927  0.842493  0.078602  0.050936  0.210345  0.422163  0.559095  0.306118  0.161809  0.588140  0.435619  0.220055  0.554706  0.562435  8   11  0   2   1   1   1   4   1   1   1   1   1   14  23  2   2   1   1   2   1   2   1   2   1   1   0   2   0   0   0   8   1   0   2   1   1   1   1   False  False  False  True   False  False  False  False  False  False  False  False  False  False  False  False  False  False  True   True   True \n",
            "18  True    0.196969  0.356014  0.199602  0.146472  0.179584  0.059979  0.177463  0.516681  0.561736  0.492330  0.584770  0.806453  0.119187  0.737838  0.435283  0.630296  0.758996  0.431283  0.586930  0.313015  0.772929  0.134960  0.034260  0.031975  0.698195  0.239528  0.301941  0.353192  0.861188  0.219893  0.238907  0.875903  0.473135  26  9   0   0   1   1   5   9   1   1   1   0   1   24  26  0   1   1   1   2   0   1   1   1   1   0   0   8   0   0   0   2   1   1   2   1   1   0   1   False  False  False  False  True   False  False  False  True   False  False  False  False  False  False  True   False  False  False  True   True \n",
            "19  False   0.498605  0.545399  0.332270  0.426976  0.171681  0.131040  0.054101  0.822851  0.051618  0.436506  0.486698  0.854138  0.180647  0.503441  0.199648  0.636728  0.805555  0.147306  0.421787  0.214667  0.957206  0.073540  0.187452  0.041662  0.481527  0.375202  0.267667  0.238050  0.766815  0.189625  0.286970  0.655318  0.747830  21  9   0   2   1   1   1   5   1   1   1   0   1   11  22  0   1   1   1   1   1   1   0   0   1   0   0   21  0   0   0   1   1   1   0   1   1   1   1   True   False  True   False  True   False  False  False  False  False  False  False  False  False  False  False  False  False  True   True   True \n",
            "20  False   0.419448  0.425701  0.326880  0.786373  0.913195  0.253769  0.444764  0.783902  0.607280  0.714641  0.561708  0.890390  0.388600  0.613566  0.553976  0.616352  0.784079  0.624204  0.350419  0.143430  0.959831  0.064669  0.034182  0.653007  0.749928  0.176135  0.855930  0.299621  0.718267  0.482199  0.404638  0.689851  0.561819  8   9   0   2   1   0   0   24  1   1   1   1   1   30  8   0   1   1   1   2   1   1   1   2   1   0   0   21  0   0   0   2   1   1   2   1   1   0   1   False  False  False  False  True   False  False  False  True   False  False  False  False  False  True   True   True   False  False  True   True \n"
          ],
          "name": "stdout"
        }
      ]
    },
    {
      "cell_type": "code",
      "metadata": {
        "id": "6znCrEFG1wds"
      },
      "source": [
        "# train, test = train_test_split(df, test_size=0)\r\n",
        "train = df\r\n",
        "\r\n",
        "X = train.drop('target', axis=1)\r\n",
        "y = train['target']"
      ],
      "execution_count": null,
      "outputs": []
    },
    {
      "cell_type": "code",
      "metadata": {
        "colab": {
          "base_uri": "https://localhost:8080/"
        },
        "id": "Asmr8No0eDTH",
        "outputId": "4fc8907c-7781-44da-c7aa-a88c57d82b5d"
      },
      "source": [
        "'''Lasso Regression''' \r\n",
        "\r\n",
        "#Fit the model\r\n",
        "clf = LassoCV().fit(X, y)\r\n",
        "\r\n",
        "#Selected features\r\n",
        "importance = np.abs(clf.coef_)\r\n",
        "idx_third = importance.argsort()[-3]\r\n",
        "threshold = importance[idx_third] + 0.01\r\n",
        "idx_features = (-importance).argsort()[:15]\r\n",
        "name_features = np.array(names)[idx_features]\r\n",
        "print('Selected features: {}'.format(name_features))\r\n"
      ],
      "execution_count": null,
      "outputs": [
        {
          "output_type": "stream",
          "text": [
            "Selected features: ['21' '35' '3' '38' '69' '10' '29' '78' '54' '71' '36' '44' '58' '52' '87']\n"
          ],
          "name": "stdout"
        }
      ]
    },
    {
      "cell_type": "code",
      "metadata": {
        "colab": {
          "base_uri": "https://localhost:8080/",
          "height": 265
        },
        "id": "FUyyGhiw1rlb",
        "outputId": "c9751ec4-a0da-40a2-9579-da3e6532fd4f"
      },
      "source": [
        "'''ExtraTreesClassifier'''\r\n",
        "\r\n",
        "#Fit the model\r\n",
        "etc_model = ExtraTreesClassifier()\r\n",
        "etc_model.fit(X,y)\r\n",
        "\r\n",
        "#plot graph of feature importances\r\n",
        "feat_importances = pd.Series(etc_model.feature_importances_, index=X.columns)\r\n",
        "feat_importances.nlargest(15).plot(kind='barh')\r\n",
        "plt.show()"
      ],
      "execution_count": null,
      "outputs": [
        {
          "output_type": "display_data",
          "data": {
            "image/png": "[encoded data removed]",
            "text/plain": [
              "<Figure size 432x288 with 1 Axes>"
            ]
          },
          "metadata": {
            "tags": []
          }
        }
      ]
    },
    {
      "cell_type": "code",
      "metadata": {
        "colab": {
          "base_uri": "https://localhost:8080/",
          "height": 302
        },
        "id": "X3qGB-Y34aOp",
        "outputId": "ded018b8-31d7-4166-cfc9-1e030a92d4aa"
      },
      "source": [
        "'''linear regression'''\r\n",
        "\r\n",
        "# define the model\r\n",
        "l_model = LinearRegression()\r\n",
        "\r\n",
        "# fit the model\r\n",
        "l_model.fit(X, y)\r\n",
        "\r\n",
        "# get importance\r\n",
        "importance = l_model.coef_\r\n",
        "\r\n",
        "# summarize feature importance\r\n",
        "idx_third = importance.argsort()[-3]\r\n",
        "threshold = importance[idx_third] + 0.01\r\n",
        "idx_features = (-importance).argsort()[:15]\r\n",
        "name_features = np.array(names)[idx_features]\r\n",
        "print('Selected features: {}'.format(name_features))\r\n",
        "\r\n",
        "# plot feature importance\r\n",
        "plt.bar([x for x in range(len(importance))], importance)\r\n",
        "plt.show()\r\n"
      ],
      "execution_count": null,
      "outputs": [
        {
          "output_type": "stream",
          "text": [
            "Selected features: ['21' '23' '22' '35' '25' '16' '84' '17' '85' '32' '55' '74' '31' '71'\n",
            " '81']\n"
          ],
          "name": "stdout"
        },
        {
          "output_type": "display_data",
          "data": {
            "image/png": "[encoded data removed]",
            "text/plain": [
              "<Figure size 432x288 with 1 Axes>"
            ]
          },
          "metadata": {
            "tags": []
          }
        }
      ]
    }
  ]
}